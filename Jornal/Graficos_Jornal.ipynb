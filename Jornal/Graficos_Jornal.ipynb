{
 "cells": [
  {
   "cell_type": "code",
   "execution_count": 232,
   "metadata": {},
   "outputs": [],
   "source": [
    "import pandas as pd\n",
    "import plotly.express as px\n",
    "import plotly.graph_objects as go\n",
    "from plotly.subplots import make_subplots"
   ]
  },
  {
   "cell_type": "code",
   "execution_count": 233,
   "metadata": {},
   "outputs": [
    {
     "name": "stderr",
     "output_type": "stream",
     "text": [
      "/tmp/ipykernel_20590/1655325398.py:1: DtypeWarning:\n",
      "\n",
      "Columns (27) have mixed types. Specify dtype option on import or set low_memory=False.\n",
      "\n"
     ]
    }
   ],
   "source": [
    "df_censo_escolar = pd.read_csv(\"microdados_ed_basica_2021.csv\", sep = \";\", encoding = \"iso-8859-1\")"
   ]
  },
  {
   "cell_type": "markdown",
   "metadata": {},
   "source": [
    "#### Geral"
   ]
  },
  {
   "cell_type": "code",
   "execution_count": 234,
   "metadata": {},
   "outputs": [],
   "source": [
    "df_censo_local_dif_in_RS = df_censo_escolar.query(\"SG_UF == 'RS'\")\n",
    "\n",
    "df_censo_local_dif_in_RS =  df_censo_local_dif_in_RS.query(\"NO_MUNICIPIO == 'Parobé'\"\n",
    "    \"| NO_MUNICIPIO == 'Dois Irmãos'\"\n",
    "    \"| NO_MUNICIPIO == 'Nova Petrópolis'\"\n",
    ")\n",
    "\n",
    "df_censo_local_dif_in_RS = df_censo_local_dif_in_RS[[\"QT_MAT_BAS\",\"QT_DOC_BAS\",\"QT_TUR_BAS\",\"NO_ENTIDADE\", \"NO_MUNICIPIO\"]]"
   ]
  },
  {
   "cell_type": "code",
   "execution_count": 235,
   "metadata": {},
   "outputs": [],
   "source": [
    "\n",
    "df_censo_local_dif_in_RS = df_censo_local_dif_in_RS.dropna(subset=[\"QT_TUR_BAS\"])"
   ]
  },
  {
   "cell_type": "code",
   "execution_count": 236,
   "metadata": {},
   "outputs": [],
   "source": [
    "df_censo_local_dif_in_RS[\"QT_MAT_POR_DOC\"] = df_censo_local_dif_in_RS['QT_MAT_BAS'] / df_censo_local_dif_in_RS['QT_DOC_BAS']"
   ]
  },
  {
   "cell_type": "code",
   "execution_count": 237,
   "metadata": {},
   "outputs": [],
   "source": [
    "grafic = px.scatter(df_censo_local_dif_in_RS, \n",
    "    x= \"QT_MAT_BAS\", \n",
    "    y= \"QT_DOC_BAS\", \n",
    "    facet_col= \"NO_MUNICIPIO\",\n",
    "    size= \"QT_MAT_POR_DOC\",\n",
    "    hover_data=[\"NO_ENTIDADE\"],\n",
    "    color= \"NO_MUNICIPIO\",\n",
    "    color_discrete_map= {\"Parobé\": \"brown\",\"Dois Irmãos\": \"orange\", \"Nova Petrópolis\": \"turquoise\"},\n",
    "    size_max= 60,\n",
    "    template= \"ggplot2\",\n",
    "    height= 800,\n",
    "    width= 1600,\n",
    "    opacity= .75,\n",
    "    range_x=[-4,1050],\n",
    "    range_y=[-4,70]\n",
    "\n",
    ")"
   ]
  },
  {
   "cell_type": "code",
   "execution_count": 238,
   "metadata": {},
   "outputs": [],
   "source": [
    "\n",
    "# Alterando titulo e tamanho da fonte do gráfico\n",
    "grafic.update_layout(\n",
    "  title=\"<b>Censo Escolar 2021: Análise da quantidade de Alunos/Professores<b>\",\n",
    "  font_size= 14\n",
    ")\n",
    "\n",
    "#Aplicando borda nos circulos\n",
    "grafic.update_traces(marker_line_width = 1, marker_line_color= \"black\")\n",
    "\n",
    "# Alterando a posição, fonte e titulo da legenda:\n",
    "grafic.update_layout(\n",
    "  legend= dict(\n",
    "    title= \"Cidade:\",\n",
    "    orientation= \"h\",\n",
    "    font_size= 12,\n",
    "    yanchor= \"top\",\n",
    "    xanchor= \"center\",\n",
    "    y= -0.2,\n",
    "    x= 0.3\n",
    "  )\n",
    ")\n",
    "\n",
    "# Alterando os títulos dos eixos x e y:\n",
    "grafic.update_layout(\n",
    "    xaxis_title= \"Quantidade de Matículas\",\n",
    "    xaxis2_title= \"Quantidade de Matículas\",\n",
    "    xaxis3_title= \"Quantidade de Matículas\",\n",
    "    yaxis_title= \"Quantidade de Docentes\",\n",
    "    font_size= 11\n",
    ")\n",
    "\n",
    "# Incluindo a fonte\n",
    "grafic.add_annotation(\n",
    "    text= \"Fonte: INEP\",\n",
    "    xref= \"paper\",\n",
    "    yref= \"paper\",\n",
    "    font_color= \"darkgrey\",\n",
    "    font_size= 12,\n",
    "    showarrow= False,\n",
    "    y= 1.1,\n",
    "    x= 1,\n",
    "    \n",
    ")\n",
    "\n",
    "# Renomenado os Gráficos\n",
    "grafic.layout.annotations[0].text= \"Dois Irmãos\"\n",
    "grafic.layout.annotations[1].text= \"Nova Petrópolis\"\n",
    "grafic.layout.annotations[2].text= \"Parobé\""
   ]
  },
  {
   "cell_type": "markdown",
   "metadata": {},
   "source": [
    "##### Botão\n"
   ]
  },
  {
   "cell_type": "code",
   "execution_count": 239,
   "metadata": {},
   "outputs": [
    {
     "data": {
      "application/vnd.plotly.v1+json": {
       "config": {
        "plotlyServerURL": "https://plot.ly"
       },
       "data": [
        {
         "customdata": [
          [
           "E M E I PROF CLARICE MARIA ARANDT"
          ],
          [
           "FADI - UNIDADE EDUCATIVA ESPERANCA"
          ],
          [
           "FADI - UNIDADE EDUCATIVA PRIMAVERA"
          ],
          [
           "COLEGIO IMACULADA CONCEICAO"
          ],
          [
           "E M E F DR MARIO SPERB"
          ],
          [
           "E M E F PROF CARLOS RAUSCH"
          ],
          [
           "ESC EST ENS FUN JOAO GRAWER FILHO"
          ],
          [
           "ESC EST ENS MED 10 DE SETEMBRO"
          ],
          [
           "E M E F PROF MATHEUS GRIMM"
          ],
          [
           "ESC EST TECNICA AFFONSO WOLF"
          ],
          [
           "E M E F ALBANO HANSEN"
          ],
          [
           "E M E F PROF ARNO NIENOW"
          ],
          [
           "E M E F PROF PAULO ARANDT"
          ],
          [
           "E M E F 29 DE SETEMBRO"
          ],
          [
           "E M E I PROFESSORA HEDA ALVES NIENOW"
          ],
          [
           "FADI - UNIDADE EDUCATIVA PEQUENA FLORESTA"
          ],
          [
           "E M E F PRIMAVERA"
          ],
          [
           "E M E F FELIPPE ALFREDO WENDLING"
          ],
          [
           "FADI - UNIDADE EDUCATIVA BEM-ME-QUER"
          ],
          [
           "FADI - UNIDADE EDUCATIVA VIDA NOVA"
          ],
          [
           "E M E I JARDIM DA ALEGRIA"
          ],
          [
           "FADI - UNIDADE EDUCATIVA BONS AMIGOS"
          ],
          [
           "ESC DE ED INF BRUXINHA FACEIRA LTDA"
          ],
          [
           "FADI - UNIDADE EDUCATIVA RAIO DE SOL"
          ],
          [
           "FADI - UNIDADE EDUCATIVA PINGO DE GENTE"
          ],
          [
           "FADI - UNIDADE EDUCATIVA SAO MIGUEL"
          ],
          [
           "FADI - UNIDADE EDUCATIVA BEIRA RIO"
          ]
         ],
         "hovertemplate": "NO_MUNICIPIO=Dois Irmãos<br>QT_MAT_BAS=%{x}<br>QT_DOC_BAS=%{y}<br>QT_MAT_POR_DOC=%{marker.size}<br>NO_ENTIDADE=%{customdata[0]}<extra></extra>",
         "legendgroup": "Dois Irmãos",
         "marker": {
          "color": "orange",
          "line": {
           "color": "black",
           "width": 1
          },
          "opacity": 0.75,
          "size": [
           17.714285714285715,
           36.5,
           12.125,
           95.33333333333333,
           9,
           88,
           2.5833333333333335,
           57.07692307692308,
           14.916666666666666,
           41.17391304347826,
           26.454545454545453,
           69.16666666666667,
           50,
           16.133333333333333,
           4.055555555555555,
           1.6511627906976745,
           23.458333333333332,
           22.727272727272727,
           20,
           4.3125,
           58.5,
           23.8,
           9.5,
           7.2,
           17.857142857142858,
           13.333333333333334,
           7.4
          ],
          "sizemode": "area",
          "sizeref": 0.03287037037037037,
          "symbol": "circle"
         },
         "mode": "markers",
         "name": "Dois Irmãos",
         "orientation": "v",
         "showlegend": true,
         "type": "scatter",
         "x": [
          124,
          73,
          97,
          286,
          108,
          352,
          62,
          742,
          179,
          947,
          291,
          415,
          400,
          242,
          73,
          71,
          563,
          250,
          60,
          69,
          117,
          119,
          57,
          72,
          125,
          40,
          74
         ],
         "xaxis": "x",
         "y": [
          7,
          2,
          8,
          3,
          12,
          4,
          24,
          13,
          12,
          23,
          11,
          6,
          8,
          15,
          18,
          43,
          24,
          11,
          3,
          16,
          2,
          5,
          6,
          10,
          7,
          3,
          10
         ],
         "yaxis": "y"
        },
        {
         "customdata": [
          [
           "EMEI PROFª IGNEZ CECCHINI DEPPE"
          ],
          [
           "EMEI OTTINHO"
          ],
          [
           "EMEI CONSTRUINDO O SABER"
          ],
          [
           "EMEF LUIZ LOESER"
          ],
          [
           "ESC EST ENS MED 1 DE MAIO"
          ],
          [
           "ESC EST ENS FUN PIA"
          ],
          [
           "ESC EST ENS FUN SAO JOSE"
          ],
          [
           "ESC EST ENS FUN PADRE AMSTAD"
          ],
          [
           "COL ESTADUAL PADRE WERNER"
          ],
          [
           "EMEF PEDRO BECK FILHO"
          ],
          [
           "ESCOLA TECNICA BOM PASTOR"
          ],
          [
           "COLEGIO CENECISTA FREDERICO MICHAELSEN"
          ],
          [
           "EMEF AUGUSTO GUILHERME GAEDICKE"
          ],
          [
           "APAES ESCOLA DE EDUCACAO ESPECIAL SOL NASCENTE"
          ],
          [
           "EMEF BOM PASTOR"
          ],
          [
           "EMEI LYDIA BRAUN"
          ],
          [
           "EMEI PIRULITO"
          ],
          [
           "EMEF OTTO HOFFMANN"
          ],
          [
           "EMEI PINGUINHO DE GENTE"
          ],
          [
           "EMEI URSINHO CARINHOSO"
          ],
          [
           "EMEI JACOB JAEGER"
          ]
         ],
         "hovertemplate": "NO_MUNICIPIO=Nova Petrópolis<br>QT_MAT_BAS=%{x}<br>QT_DOC_BAS=%{y}<br>QT_MAT_POR_DOC=%{marker.size}<br>NO_ENTIDADE=%{customdata[0]}<extra></extra>",
         "legendgroup": "Nova Petrópolis",
         "marker": {
          "color": "turquoise",
          "line": {
           "color": "black",
           "width": 1
          },
          "opacity": 0.75,
          "size": [
           16,
           26,
           81.5,
           13.470588235294118,
           22.1875,
           7.9,
           11.692307692307692,
           8.882352941176471,
           23.333333333333332,
           4.166666666666667,
           81.8,
           14.066666666666666,
           24.545454545454547,
           1.6111111111111112,
           14.26923076923077,
           7.666666666666667,
           4.733333333333333,
           15.363636363636363,
           7.705882352941177,
           31.5,
           35
          ],
          "sizemode": "area",
          "sizeref": 0.03287037037037037,
          "symbol": "circle"
         },
         "mode": "markers",
         "name": "Nova Petrópolis",
         "orientation": "v",
         "showlegend": true,
         "type": "scatter",
         "x": [
          128,
          182,
          163,
          229,
          355,
          158,
          152,
          151,
          560,
          150,
          409,
          211,
          270,
          29,
          371,
          69,
          71,
          338,
          131,
          189,
          140
         ],
         "xaxis": "x2",
         "y": [
          8,
          7,
          2,
          17,
          16,
          20,
          13,
          17,
          24,
          36,
          5,
          15,
          11,
          18,
          26,
          9,
          15,
          22,
          17,
          6,
          4
         ],
         "yaxis": "y2"
        },
        {
         "customdata": [
          [
           "EMEI AZALEIA"
          ],
          [
           "ESCOLA ED INF DOCE INFANCIA"
          ],
          [
           "EEI MACA DO AMOR"
          ],
          [
           "EMEI FAVO DE MEL"
          ],
          [
           "EMEF DINIZ MARTINS RANGEL"
          ],
          [
           "EMEF JORGE FLECK"
          ],
          [
           "EMEF IDALINO PEDRO DA SILVA"
          ],
          [
           "EMEF PROF MARIETA MELITA DA SILVA"
          ],
          [
           "EMEF MALTUS KRUMMENAUER"
          ],
          [
           "EMEF ROMILDA SIBEL RENCK"
          ],
          [
           "EMEF JOAO MUCK"
          ],
          [
           "ESC EST ENS MED ENGENHEIRO PAROBE"
          ],
          [
           "EMEF PADRE AFONSO KIST"
          ],
          [
           "EMEF ARTUINO ARSAND"
          ],
          [
           "EMEF PROF ANA MARIA FAY DOS SANTOS"
          ],
          [
           "COL ESTADUAL JOAO MOSMANN"
          ],
          [
           "ESC EST ENS MED ADELINA DA CUNHA"
          ],
          [
           "ESC EST ENS FUN NILO CARLITO KOETZ"
          ],
          [
           "EMEF MARIA FRANCISCA DA SILVA"
          ],
          [
           "EMEF MOISES DE SOUZA PIRES MOSMANN"
          ],
          [
           "EMEI JARDIM DE INFANCIA THENO JOSE BERLITZ"
          ],
          [
           "EMEF LEOPOLDO FREDERICO WILLERS"
          ],
          [
           "EMEF TERESINHA IVONE HOMEM"
          ],
          [
           "EMEF GETULIO DORNELLES VARGAS"
          ],
          [
           "EMEF JOAO ANGELO PANDOLFO"
          ],
          [
           "EMEF PROF NOEMY FAY DOS SANTOS"
          ],
          [
           "EMEE PROF FLAVIA MARIA BRITO"
          ],
          [
           "EMEI PROF MARIAZINHA MARIA NUNES MARTINS"
          ],
          [
           "EMEI URSINHO ENCANTADO"
          ],
          [
           "EMEI BRANCA DE NEVE"
          ],
          [
           "ANJINHO ARTEIRO EDUCACAO INFANTIL"
          ],
          [
           "EMEI MUNDO COLORIDO"
          ],
          [
           "EMEI ALGODAO DOCE"
          ],
          [
           "ESCOLA DE EDUCACAO INFANTIL ESTRELINHA LTDA ME"
          ],
          [
           "NUCLEO MUNICIPAL DE EDUCACAO DE JOVENS E ADULTOS DE PAROBE"
          ],
          [
           "ESC EDUC INF CHAPEUZINHO VERMELHO"
          ],
          [
           "ESCOLA EDUCACAO INF PEQUENO PRINCIPE"
          ],
          [
           "EMEI DOCE MEL"
          ],
          [
           "ESC EST ENS MED JOSE AUGUSTO HENEMANN"
          ]
         ],
         "hovertemplate": "NO_MUNICIPIO=Parobé<br>QT_MAT_BAS=%{x}<br>QT_DOC_BAS=%{y}<br>QT_MAT_POR_DOC=%{marker.size}<br>NO_ENTIDADE=%{customdata[0]}<extra></extra>",
         "legendgroup": "Parobé",
         "marker": {
          "color": "brown",
          "line": {
           "color": "black",
           "width": 1
          },
          "opacity": 0.75,
          "size": [
           118.33333333333333,
           20.333333333333332,
           8.2,
           19.5,
           21.72222222222222,
           26.454545454545453,
           16.41860465116279,
           8.487179487179487,
           9.093023255813954,
           58.833333333333336,
           11.76923076923077,
           12.075471698113208,
           29.375,
           17.857142857142858,
           17.666666666666668,
           13.878787878787879,
           13.75,
           1.697674418604651,
           32.473684210526315,
           9.478260869565217,
           33.666666666666664,
           21.166666666666668,
           19.928571428571427,
           75.2,
           3.2203389830508473,
           105.75,
           8,
           13.8,
           7.3,
           2.6923076923076925,
           4.6923076923076925,
           12.571428571428571,
           10.857142857142858,
           16,
           32.5,
           17.666666666666668,
           10.8,
           2.909090909090909,
           7.484375
          ],
          "sizemode": "area",
          "sizeref": 0.03287037037037037,
          "symbol": "circle"
         },
         "mode": "markers",
         "name": "Parobé",
         "orientation": "v",
         "showlegend": true,
         "type": "scatter",
         "x": [
          355,
          61,
          41,
          78,
          391,
          291,
          706,
          331,
          391,
          353,
          459,
          640,
          235,
          250,
          954,
          458,
          275,
          73,
          617,
          218,
          101,
          508,
          279,
          752,
          190,
          423,
          80,
          138,
          73,
          35,
          61,
          88,
          152,
          32,
          325,
          53,
          54,
          64,
          479
         ],
         "xaxis": "x3",
         "y": [
          3,
          3,
          5,
          4,
          18,
          11,
          43,
          39,
          43,
          6,
          39,
          53,
          8,
          14,
          54,
          33,
          20,
          43,
          19,
          23,
          3,
          24,
          14,
          10,
          59,
          4,
          10,
          10,
          10,
          13,
          13,
          7,
          14,
          2,
          10,
          3,
          5,
          22,
          64
         ],
         "yaxis": "y3"
        }
       ],
       "layout": {
        "annotations": [
         {
          "showarrow": false,
          "text": "Dois Irmãos",
          "x": 0.15999999999999998,
          "xanchor": "center",
          "xref": "paper",
          "y": 1,
          "yanchor": "bottom",
          "yref": "paper"
         },
         {
          "showarrow": false,
          "text": "Nova Petrópolis",
          "x": 0.49999999999999994,
          "xanchor": "center",
          "xref": "paper",
          "y": 1,
          "yanchor": "bottom",
          "yref": "paper"
         },
         {
          "showarrow": false,
          "text": "Parobé",
          "x": 0.8399999999999999,
          "xanchor": "center",
          "xref": "paper",
          "y": 1,
          "yanchor": "bottom",
          "yref": "paper"
         },
         {
          "font": {
           "color": "darkgrey",
           "size": 12
          },
          "showarrow": false,
          "text": "Fonte: INEP",
          "x": 1,
          "xref": "paper",
          "y": 1.1,
          "yref": "paper"
         }
        ],
        "font": {
         "size": 11
        },
        "height": 800,
        "legend": {
         "font": {
          "size": 12
         },
         "itemsizing": "constant",
         "orientation": "h",
         "title": {
          "text": "Cidade:"
         },
         "tracegroupgap": 0,
         "x": 0.3,
         "xanchor": "center",
         "y": -0.2,
         "yanchor": "top"
        },
        "margin": {
         "t": 60
        },
        "template": {
         "data": {
          "bar": [
           {
            "error_x": {
             "color": "rgb(51,51,51)"
            },
            "error_y": {
             "color": "rgb(51,51,51)"
            },
            "marker": {
             "line": {
              "color": "rgb(237,237,237)",
              "width": 0.5
             },
             "pattern": {
              "fillmode": "overlay",
              "size": 10,
              "solidity": 0.2
             }
            },
            "type": "bar"
           }
          ],
          "barpolar": [
           {
            "marker": {
             "line": {
              "color": "rgb(237,237,237)",
              "width": 0.5
             },
             "pattern": {
              "fillmode": "overlay",
              "size": 10,
              "solidity": 0.2
             }
            },
            "type": "barpolar"
           }
          ],
          "carpet": [
           {
            "aaxis": {
             "endlinecolor": "rgb(51,51,51)",
             "gridcolor": "white",
             "linecolor": "white",
             "minorgridcolor": "white",
             "startlinecolor": "rgb(51,51,51)"
            },
            "baxis": {
             "endlinecolor": "rgb(51,51,51)",
             "gridcolor": "white",
             "linecolor": "white",
             "minorgridcolor": "white",
             "startlinecolor": "rgb(51,51,51)"
            },
            "type": "carpet"
           }
          ],
          "choropleth": [
           {
            "colorbar": {
             "outlinewidth": 0,
             "tickcolor": "rgb(237,237,237)",
             "ticklen": 6,
             "ticks": "inside"
            },
            "type": "choropleth"
           }
          ],
          "contour": [
           {
            "colorbar": {
             "outlinewidth": 0,
             "tickcolor": "rgb(237,237,237)",
             "ticklen": 6,
             "ticks": "inside"
            },
            "colorscale": [
             [
              0,
              "rgb(20,44,66)"
             ],
             [
              1,
              "rgb(90,179,244)"
             ]
            ],
            "type": "contour"
           }
          ],
          "contourcarpet": [
           {
            "colorbar": {
             "outlinewidth": 0,
             "tickcolor": "rgb(237,237,237)",
             "ticklen": 6,
             "ticks": "inside"
            },
            "type": "contourcarpet"
           }
          ],
          "heatmap": [
           {
            "colorbar": {
             "outlinewidth": 0,
             "tickcolor": "rgb(237,237,237)",
             "ticklen": 6,
             "ticks": "inside"
            },
            "colorscale": [
             [
              0,
              "rgb(20,44,66)"
             ],
             [
              1,
              "rgb(90,179,244)"
             ]
            ],
            "type": "heatmap"
           }
          ],
          "heatmapgl": [
           {
            "colorbar": {
             "outlinewidth": 0,
             "tickcolor": "rgb(237,237,237)",
             "ticklen": 6,
             "ticks": "inside"
            },
            "colorscale": [
             [
              0,
              "rgb(20,44,66)"
             ],
             [
              1,
              "rgb(90,179,244)"
             ]
            ],
            "type": "heatmapgl"
           }
          ],
          "histogram": [
           {
            "marker": {
             "pattern": {
              "fillmode": "overlay",
              "size": 10,
              "solidity": 0.2
             }
            },
            "type": "histogram"
           }
          ],
          "histogram2d": [
           {
            "colorbar": {
             "outlinewidth": 0,
             "tickcolor": "rgb(237,237,237)",
             "ticklen": 6,
             "ticks": "inside"
            },
            "colorscale": [
             [
              0,
              "rgb(20,44,66)"
             ],
             [
              1,
              "rgb(90,179,244)"
             ]
            ],
            "type": "histogram2d"
           }
          ],
          "histogram2dcontour": [
           {
            "colorbar": {
             "outlinewidth": 0,
             "tickcolor": "rgb(237,237,237)",
             "ticklen": 6,
             "ticks": "inside"
            },
            "colorscale": [
             [
              0,
              "rgb(20,44,66)"
             ],
             [
              1,
              "rgb(90,179,244)"
             ]
            ],
            "type": "histogram2dcontour"
           }
          ],
          "mesh3d": [
           {
            "colorbar": {
             "outlinewidth": 0,
             "tickcolor": "rgb(237,237,237)",
             "ticklen": 6,
             "ticks": "inside"
            },
            "type": "mesh3d"
           }
          ],
          "parcoords": [
           {
            "line": {
             "colorbar": {
              "outlinewidth": 0,
              "tickcolor": "rgb(237,237,237)",
              "ticklen": 6,
              "ticks": "inside"
             }
            },
            "type": "parcoords"
           }
          ],
          "pie": [
           {
            "automargin": true,
            "type": "pie"
           }
          ],
          "scatter": [
           {
            "fillpattern": {
             "fillmode": "overlay",
             "size": 10,
             "solidity": 0.2
            },
            "type": "scatter"
           }
          ],
          "scatter3d": [
           {
            "line": {
             "colorbar": {
              "outlinewidth": 0,
              "tickcolor": "rgb(237,237,237)",
              "ticklen": 6,
              "ticks": "inside"
             }
            },
            "marker": {
             "colorbar": {
              "outlinewidth": 0,
              "tickcolor": "rgb(237,237,237)",
              "ticklen": 6,
              "ticks": "inside"
             }
            },
            "type": "scatter3d"
           }
          ],
          "scattercarpet": [
           {
            "marker": {
             "colorbar": {
              "outlinewidth": 0,
              "tickcolor": "rgb(237,237,237)",
              "ticklen": 6,
              "ticks": "inside"
             }
            },
            "type": "scattercarpet"
           }
          ],
          "scattergeo": [
           {
            "marker": {
             "colorbar": {
              "outlinewidth": 0,
              "tickcolor": "rgb(237,237,237)",
              "ticklen": 6,
              "ticks": "inside"
             }
            },
            "type": "scattergeo"
           }
          ],
          "scattergl": [
           {
            "marker": {
             "colorbar": {
              "outlinewidth": 0,
              "tickcolor": "rgb(237,237,237)",
              "ticklen": 6,
              "ticks": "inside"
             }
            },
            "type": "scattergl"
           }
          ],
          "scattermapbox": [
           {
            "marker": {
             "colorbar": {
              "outlinewidth": 0,
              "tickcolor": "rgb(237,237,237)",
              "ticklen": 6,
              "ticks": "inside"
             }
            },
            "type": "scattermapbox"
           }
          ],
          "scatterpolar": [
           {
            "marker": {
             "colorbar": {
              "outlinewidth": 0,
              "tickcolor": "rgb(237,237,237)",
              "ticklen": 6,
              "ticks": "inside"
             }
            },
            "type": "scatterpolar"
           }
          ],
          "scatterpolargl": [
           {
            "marker": {
             "colorbar": {
              "outlinewidth": 0,
              "tickcolor": "rgb(237,237,237)",
              "ticklen": 6,
              "ticks": "inside"
             }
            },
            "type": "scatterpolargl"
           }
          ],
          "scatterternary": [
           {
            "marker": {
             "colorbar": {
              "outlinewidth": 0,
              "tickcolor": "rgb(237,237,237)",
              "ticklen": 6,
              "ticks": "inside"
             }
            },
            "type": "scatterternary"
           }
          ],
          "surface": [
           {
            "colorbar": {
             "outlinewidth": 0,
             "tickcolor": "rgb(237,237,237)",
             "ticklen": 6,
             "ticks": "inside"
            },
            "colorscale": [
             [
              0,
              "rgb(20,44,66)"
             ],
             [
              1,
              "rgb(90,179,244)"
             ]
            ],
            "type": "surface"
           }
          ],
          "table": [
           {
            "cells": {
             "fill": {
              "color": "rgb(237,237,237)"
             },
             "line": {
              "color": "white"
             }
            },
            "header": {
             "fill": {
              "color": "rgb(217,217,217)"
             },
             "line": {
              "color": "white"
             }
            },
            "type": "table"
           }
          ]
         },
         "layout": {
          "annotationdefaults": {
           "arrowhead": 0,
           "arrowwidth": 1
          },
          "autotypenumbers": "strict",
          "coloraxis": {
           "colorbar": {
            "outlinewidth": 0,
            "tickcolor": "rgb(237,237,237)",
            "ticklen": 6,
            "ticks": "inside"
           }
          },
          "colorscale": {
           "sequential": [
            [
             0,
             "rgb(20,44,66)"
            ],
            [
             1,
             "rgb(90,179,244)"
            ]
           ],
           "sequentialminus": [
            [
             0,
             "rgb(20,44,66)"
            ],
            [
             1,
             "rgb(90,179,244)"
            ]
           ]
          },
          "colorway": [
           "#F8766D",
           "#A3A500",
           "#00BF7D",
           "#00B0F6",
           "#E76BF3"
          ],
          "font": {
           "color": "rgb(51,51,51)"
          },
          "geo": {
           "bgcolor": "white",
           "lakecolor": "white",
           "landcolor": "rgb(237,237,237)",
           "showlakes": true,
           "showland": true,
           "subunitcolor": "white"
          },
          "hoverlabel": {
           "align": "left"
          },
          "hovermode": "closest",
          "paper_bgcolor": "white",
          "plot_bgcolor": "rgb(237,237,237)",
          "polar": {
           "angularaxis": {
            "gridcolor": "white",
            "linecolor": "white",
            "showgrid": true,
            "tickcolor": "rgb(51,51,51)",
            "ticks": "outside"
           },
           "bgcolor": "rgb(237,237,237)",
           "radialaxis": {
            "gridcolor": "white",
            "linecolor": "white",
            "showgrid": true,
            "tickcolor": "rgb(51,51,51)",
            "ticks": "outside"
           }
          },
          "scene": {
           "xaxis": {
            "backgroundcolor": "rgb(237,237,237)",
            "gridcolor": "white",
            "gridwidth": 2,
            "linecolor": "white",
            "showbackground": true,
            "showgrid": true,
            "tickcolor": "rgb(51,51,51)",
            "ticks": "outside",
            "zerolinecolor": "white"
           },
           "yaxis": {
            "backgroundcolor": "rgb(237,237,237)",
            "gridcolor": "white",
            "gridwidth": 2,
            "linecolor": "white",
            "showbackground": true,
            "showgrid": true,
            "tickcolor": "rgb(51,51,51)",
            "ticks": "outside",
            "zerolinecolor": "white"
           },
           "zaxis": {
            "backgroundcolor": "rgb(237,237,237)",
            "gridcolor": "white",
            "gridwidth": 2,
            "linecolor": "white",
            "showbackground": true,
            "showgrid": true,
            "tickcolor": "rgb(51,51,51)",
            "ticks": "outside",
            "zerolinecolor": "white"
           }
          },
          "shapedefaults": {
           "fillcolor": "black",
           "line": {
            "width": 0
           },
           "opacity": 0.3
          },
          "ternary": {
           "aaxis": {
            "gridcolor": "white",
            "linecolor": "white",
            "showgrid": true,
            "tickcolor": "rgb(51,51,51)",
            "ticks": "outside"
           },
           "baxis": {
            "gridcolor": "white",
            "linecolor": "white",
            "showgrid": true,
            "tickcolor": "rgb(51,51,51)",
            "ticks": "outside"
           },
           "bgcolor": "rgb(237,237,237)",
           "caxis": {
            "gridcolor": "white",
            "linecolor": "white",
            "showgrid": true,
            "tickcolor": "rgb(51,51,51)",
            "ticks": "outside"
           }
          },
          "xaxis": {
           "automargin": true,
           "gridcolor": "white",
           "linecolor": "white",
           "showgrid": true,
           "tickcolor": "rgb(51,51,51)",
           "ticks": "outside",
           "title": {
            "standoff": 15
           },
           "zerolinecolor": "white"
          },
          "yaxis": {
           "automargin": true,
           "gridcolor": "white",
           "linecolor": "white",
           "showgrid": true,
           "tickcolor": "rgb(51,51,51)",
           "ticks": "outside",
           "title": {
            "standoff": 15
           },
           "zerolinecolor": "white"
          }
         }
        },
        "title": {
         "text": "<b>Censo Escolar 2021: Análise da quantidade de Alunos/Professores<b>"
        },
        "width": 1600,
        "xaxis": {
         "anchor": "y",
         "domain": [
          0,
          0.31999999999999995
         ],
         "range": [
          -4,
          1050
         ],
         "title": {
          "text": "Quantidade de Matículas"
         }
        },
        "xaxis2": {
         "anchor": "y2",
         "domain": [
          0.33999999999999997,
          0.6599999999999999
         ],
         "matches": "x",
         "range": [
          -4,
          1050
         ],
         "title": {
          "text": "Quantidade de Matículas"
         }
        },
        "xaxis3": {
         "anchor": "y3",
         "domain": [
          0.6799999999999999,
          0.9999999999999999
         ],
         "matches": "x",
         "range": [
          -4,
          1050
         ],
         "title": {
          "text": "Quantidade de Matículas"
         }
        },
        "yaxis": {
         "anchor": "x",
         "domain": [
          0,
          1
         ],
         "range": [
          -4,
          70
         ],
         "title": {
          "text": "Quantidade de Docentes"
         }
        },
        "yaxis2": {
         "anchor": "x2",
         "domain": [
          0,
          1
         ],
         "matches": "y",
         "showticklabels": false
        },
        "yaxis3": {
         "anchor": "x3",
         "domain": [
          0,
          1
         ],
         "matches": "y",
         "showticklabels": false
        }
       }
      }
     },
     "metadata": {},
     "output_type": "display_data"
    }
   ],
   "source": [
    "grafic.show()"
   ]
  },
  {
   "cell_type": "markdown",
   "metadata": {},
   "source": [
    "#### DOIS IRMAOS"
   ]
  },
  {
   "cell_type": "code",
   "execution_count": 240,
   "metadata": {},
   "outputs": [],
   "source": [
    "df_di = df_censo_local_dif_in_RS.query(\"NO_MUNICIPIO == 'Dois Irmãos'\")\n",
    "\n",
    "df_di = df_di[[\"QT_MAT_BAS\",\"QT_DOC_BAS\",\"QT_TUR_BAS\",\"NO_ENTIDADE\", \"NO_MUNICIPIO\"]]\n",
    "\n",
    "df_di = df_di.dropna(subset=[\"QT_TUR_BAS\"])\n",
    "\n",
    "df_di[\"QT_MAT_POR_DOC\"] = df_di['QT_MAT_BAS'] / df_di['QT_DOC_BAS']\n"
   ]
  },
  {
   "cell_type": "code",
   "execution_count": 241,
   "metadata": {},
   "outputs": [],
   "source": [
    "grafic_dois_irmaos= px.scatter(df_di, \n",
    "    x= \"QT_MAT_BAS\", \n",
    "    y= \"QT_DOC_BAS\", \n",
    "    size= \"QT_MAT_POR_DOC\",\n",
    "    hover_data=[\"NO_ENTIDADE\"],\n",
    "    size_max= 60,\n",
    "    template= \"ggplot2\",\n",
    "    height= 500,\n",
    "    width= 1000,\n",
    "    opacity= .75,\n",
    "    range_x=[-4,1050],\n",
    "    range_y=[-4,50]\n",
    ")"
   ]
  },
  {
   "cell_type": "code",
   "execution_count": 242,
   "metadata": {},
   "outputs": [
    {
     "data": {
      "application/vnd.plotly.v1+json": {
       "config": {
        "plotlyServerURL": "https://plot.ly"
       },
       "data": [
        {
         "customdata": [
          [
           "E M E I PROF CLARICE MARIA ARANDT"
          ],
          [
           "FADI - UNIDADE EDUCATIVA ESPERANCA"
          ],
          [
           "FADI - UNIDADE EDUCATIVA PRIMAVERA"
          ],
          [
           "COLEGIO IMACULADA CONCEICAO"
          ],
          [
           "E M E F DR MARIO SPERB"
          ],
          [
           "E M E F PROF CARLOS RAUSCH"
          ],
          [
           "ESC EST ENS FUN JOAO GRAWER FILHO"
          ],
          [
           "ESC EST ENS MED 10 DE SETEMBRO"
          ],
          [
           "E M E F PROF MATHEUS GRIMM"
          ],
          [
           "ESC EST TECNICA AFFONSO WOLF"
          ],
          [
           "E M E F ALBANO HANSEN"
          ],
          [
           "E M E F PROF ARNO NIENOW"
          ],
          [
           "E M E F PROF PAULO ARANDT"
          ],
          [
           "E M E F 29 DE SETEMBRO"
          ],
          [
           "E M E I PROFESSORA HEDA ALVES NIENOW"
          ],
          [
           "FADI - UNIDADE EDUCATIVA PEQUENA FLORESTA"
          ],
          [
           "E M E F PRIMAVERA"
          ],
          [
           "E M E F FELIPPE ALFREDO WENDLING"
          ],
          [
           "FADI - UNIDADE EDUCATIVA BEM-ME-QUER"
          ],
          [
           "FADI - UNIDADE EDUCATIVA VIDA NOVA"
          ],
          [
           "E M E I JARDIM DA ALEGRIA"
          ],
          [
           "FADI - UNIDADE EDUCATIVA BONS AMIGOS"
          ],
          [
           "ESC DE ED INF BRUXINHA FACEIRA LTDA"
          ],
          [
           "FADI - UNIDADE EDUCATIVA RAIO DE SOL"
          ],
          [
           "FADI - UNIDADE EDUCATIVA PINGO DE GENTE"
          ],
          [
           "FADI - UNIDADE EDUCATIVA SAO MIGUEL"
          ],
          [
           "FADI - UNIDADE EDUCATIVA BEIRA RIO"
          ]
         ],
         "hovertemplate": "QT_MAT_BAS=%{x}<br>QT_DOC_BAS=%{y}<br>QT_MAT_POR_DOC=%{marker.size}<br>NO_ENTIDADE=%{customdata[0]}<extra></extra>",
         "legendgroup": "",
         "marker": {
          "color": "orange",
          "line": {
           "color": "black",
           "width": 1
          },
          "opacity": 0.75,
          "size": [
           17.714285714285715,
           36.5,
           12.125,
           95.33333333333333,
           9,
           88,
           2.5833333333333335,
           57.07692307692308,
           14.916666666666666,
           41.17391304347826,
           26.454545454545453,
           69.16666666666667,
           50,
           16.133333333333333,
           4.055555555555555,
           1.6511627906976745,
           23.458333333333332,
           22.727272727272727,
           20,
           4.3125,
           58.5,
           23.8,
           9.5,
           7.2,
           17.857142857142858,
           13.333333333333334,
           7.4
          ],
          "sizemode": "area",
          "sizeref": 0.02648148148148148,
          "symbol": "circle"
         },
         "mode": "markers",
         "name": "",
         "orientation": "v",
         "showlegend": false,
         "type": "scatter",
         "x": [
          124,
          73,
          97,
          286,
          108,
          352,
          62,
          742,
          179,
          947,
          291,
          415,
          400,
          242,
          73,
          71,
          563,
          250,
          60,
          69,
          117,
          119,
          57,
          72,
          125,
          40,
          74
         ],
         "xaxis": "x",
         "y": [
          7,
          2,
          8,
          3,
          12,
          4,
          24,
          13,
          12,
          23,
          11,
          6,
          8,
          15,
          18,
          43,
          24,
          11,
          3,
          16,
          2,
          5,
          6,
          10,
          7,
          3,
          10
         ],
         "yaxis": "y"
        }
       ],
       "layout": {
        "annotations": [
         {
          "font": {
           "color": "darkgrey",
           "size": 12
          },
          "showarrow": false,
          "text": "Fonte: INEP",
          "x": 0.99,
          "xref": "paper",
          "y": 1,
          "yref": "paper"
         }
        ],
        "font": {
         "size": 12
        },
        "height": 500,
        "legend": {
         "itemsizing": "constant",
         "tracegroupgap": 0
        },
        "margin": {
         "t": 60
        },
        "template": {
         "data": {
          "bar": [
           {
            "error_x": {
             "color": "rgb(51,51,51)"
            },
            "error_y": {
             "color": "rgb(51,51,51)"
            },
            "marker": {
             "line": {
              "color": "rgb(237,237,237)",
              "width": 0.5
             },
             "pattern": {
              "fillmode": "overlay",
              "size": 10,
              "solidity": 0.2
             }
            },
            "type": "bar"
           }
          ],
          "barpolar": [
           {
            "marker": {
             "line": {
              "color": "rgb(237,237,237)",
              "width": 0.5
             },
             "pattern": {
              "fillmode": "overlay",
              "size": 10,
              "solidity": 0.2
             }
            },
            "type": "barpolar"
           }
          ],
          "carpet": [
           {
            "aaxis": {
             "endlinecolor": "rgb(51,51,51)",
             "gridcolor": "white",
             "linecolor": "white",
             "minorgridcolor": "white",
             "startlinecolor": "rgb(51,51,51)"
            },
            "baxis": {
             "endlinecolor": "rgb(51,51,51)",
             "gridcolor": "white",
             "linecolor": "white",
             "minorgridcolor": "white",
             "startlinecolor": "rgb(51,51,51)"
            },
            "type": "carpet"
           }
          ],
          "choropleth": [
           {
            "colorbar": {
             "outlinewidth": 0,
             "tickcolor": "rgb(237,237,237)",
             "ticklen": 6,
             "ticks": "inside"
            },
            "type": "choropleth"
           }
          ],
          "contour": [
           {
            "colorbar": {
             "outlinewidth": 0,
             "tickcolor": "rgb(237,237,237)",
             "ticklen": 6,
             "ticks": "inside"
            },
            "colorscale": [
             [
              0,
              "rgb(20,44,66)"
             ],
             [
              1,
              "rgb(90,179,244)"
             ]
            ],
            "type": "contour"
           }
          ],
          "contourcarpet": [
           {
            "colorbar": {
             "outlinewidth": 0,
             "tickcolor": "rgb(237,237,237)",
             "ticklen": 6,
             "ticks": "inside"
            },
            "type": "contourcarpet"
           }
          ],
          "heatmap": [
           {
            "colorbar": {
             "outlinewidth": 0,
             "tickcolor": "rgb(237,237,237)",
             "ticklen": 6,
             "ticks": "inside"
            },
            "colorscale": [
             [
              0,
              "rgb(20,44,66)"
             ],
             [
              1,
              "rgb(90,179,244)"
             ]
            ],
            "type": "heatmap"
           }
          ],
          "heatmapgl": [
           {
            "colorbar": {
             "outlinewidth": 0,
             "tickcolor": "rgb(237,237,237)",
             "ticklen": 6,
             "ticks": "inside"
            },
            "colorscale": [
             [
              0,
              "rgb(20,44,66)"
             ],
             [
              1,
              "rgb(90,179,244)"
             ]
            ],
            "type": "heatmapgl"
           }
          ],
          "histogram": [
           {
            "marker": {
             "pattern": {
              "fillmode": "overlay",
              "size": 10,
              "solidity": 0.2
             }
            },
            "type": "histogram"
           }
          ],
          "histogram2d": [
           {
            "colorbar": {
             "outlinewidth": 0,
             "tickcolor": "rgb(237,237,237)",
             "ticklen": 6,
             "ticks": "inside"
            },
            "colorscale": [
             [
              0,
              "rgb(20,44,66)"
             ],
             [
              1,
              "rgb(90,179,244)"
             ]
            ],
            "type": "histogram2d"
           }
          ],
          "histogram2dcontour": [
           {
            "colorbar": {
             "outlinewidth": 0,
             "tickcolor": "rgb(237,237,237)",
             "ticklen": 6,
             "ticks": "inside"
            },
            "colorscale": [
             [
              0,
              "rgb(20,44,66)"
             ],
             [
              1,
              "rgb(90,179,244)"
             ]
            ],
            "type": "histogram2dcontour"
           }
          ],
          "mesh3d": [
           {
            "colorbar": {
             "outlinewidth": 0,
             "tickcolor": "rgb(237,237,237)",
             "ticklen": 6,
             "ticks": "inside"
            },
            "type": "mesh3d"
           }
          ],
          "parcoords": [
           {
            "line": {
             "colorbar": {
              "outlinewidth": 0,
              "tickcolor": "rgb(237,237,237)",
              "ticklen": 6,
              "ticks": "inside"
             }
            },
            "type": "parcoords"
           }
          ],
          "pie": [
           {
            "automargin": true,
            "type": "pie"
           }
          ],
          "scatter": [
           {
            "fillpattern": {
             "fillmode": "overlay",
             "size": 10,
             "solidity": 0.2
            },
            "type": "scatter"
           }
          ],
          "scatter3d": [
           {
            "line": {
             "colorbar": {
              "outlinewidth": 0,
              "tickcolor": "rgb(237,237,237)",
              "ticklen": 6,
              "ticks": "inside"
             }
            },
            "marker": {
             "colorbar": {
              "outlinewidth": 0,
              "tickcolor": "rgb(237,237,237)",
              "ticklen": 6,
              "ticks": "inside"
             }
            },
            "type": "scatter3d"
           }
          ],
          "scattercarpet": [
           {
            "marker": {
             "colorbar": {
              "outlinewidth": 0,
              "tickcolor": "rgb(237,237,237)",
              "ticklen": 6,
              "ticks": "inside"
             }
            },
            "type": "scattercarpet"
           }
          ],
          "scattergeo": [
           {
            "marker": {
             "colorbar": {
              "outlinewidth": 0,
              "tickcolor": "rgb(237,237,237)",
              "ticklen": 6,
              "ticks": "inside"
             }
            },
            "type": "scattergeo"
           }
          ],
          "scattergl": [
           {
            "marker": {
             "colorbar": {
              "outlinewidth": 0,
              "tickcolor": "rgb(237,237,237)",
              "ticklen": 6,
              "ticks": "inside"
             }
            },
            "type": "scattergl"
           }
          ],
          "scattermapbox": [
           {
            "marker": {
             "colorbar": {
              "outlinewidth": 0,
              "tickcolor": "rgb(237,237,237)",
              "ticklen": 6,
              "ticks": "inside"
             }
            },
            "type": "scattermapbox"
           }
          ],
          "scatterpolar": [
           {
            "marker": {
             "colorbar": {
              "outlinewidth": 0,
              "tickcolor": "rgb(237,237,237)",
              "ticklen": 6,
              "ticks": "inside"
             }
            },
            "type": "scatterpolar"
           }
          ],
          "scatterpolargl": [
           {
            "marker": {
             "colorbar": {
              "outlinewidth": 0,
              "tickcolor": "rgb(237,237,237)",
              "ticklen": 6,
              "ticks": "inside"
             }
            },
            "type": "scatterpolargl"
           }
          ],
          "scatterternary": [
           {
            "marker": {
             "colorbar": {
              "outlinewidth": 0,
              "tickcolor": "rgb(237,237,237)",
              "ticklen": 6,
              "ticks": "inside"
             }
            },
            "type": "scatterternary"
           }
          ],
          "surface": [
           {
            "colorbar": {
             "outlinewidth": 0,
             "tickcolor": "rgb(237,237,237)",
             "ticklen": 6,
             "ticks": "inside"
            },
            "colorscale": [
             [
              0,
              "rgb(20,44,66)"
             ],
             [
              1,
              "rgb(90,179,244)"
             ]
            ],
            "type": "surface"
           }
          ],
          "table": [
           {
            "cells": {
             "fill": {
              "color": "rgb(237,237,237)"
             },
             "line": {
              "color": "white"
             }
            },
            "header": {
             "fill": {
              "color": "rgb(217,217,217)"
             },
             "line": {
              "color": "white"
             }
            },
            "type": "table"
           }
          ]
         },
         "layout": {
          "annotationdefaults": {
           "arrowhead": 0,
           "arrowwidth": 1
          },
          "autotypenumbers": "strict",
          "coloraxis": {
           "colorbar": {
            "outlinewidth": 0,
            "tickcolor": "rgb(237,237,237)",
            "ticklen": 6,
            "ticks": "inside"
           }
          },
          "colorscale": {
           "sequential": [
            [
             0,
             "rgb(20,44,66)"
            ],
            [
             1,
             "rgb(90,179,244)"
            ]
           ],
           "sequentialminus": [
            [
             0,
             "rgb(20,44,66)"
            ],
            [
             1,
             "rgb(90,179,244)"
            ]
           ]
          },
          "colorway": [
           "#F8766D",
           "#A3A500",
           "#00BF7D",
           "#00B0F6",
           "#E76BF3"
          ],
          "font": {
           "color": "rgb(51,51,51)"
          },
          "geo": {
           "bgcolor": "white",
           "lakecolor": "white",
           "landcolor": "rgb(237,237,237)",
           "showlakes": true,
           "showland": true,
           "subunitcolor": "white"
          },
          "hoverlabel": {
           "align": "left"
          },
          "hovermode": "closest",
          "paper_bgcolor": "white",
          "plot_bgcolor": "rgb(237,237,237)",
          "polar": {
           "angularaxis": {
            "gridcolor": "white",
            "linecolor": "white",
            "showgrid": true,
            "tickcolor": "rgb(51,51,51)",
            "ticks": "outside"
           },
           "bgcolor": "rgb(237,237,237)",
           "radialaxis": {
            "gridcolor": "white",
            "linecolor": "white",
            "showgrid": true,
            "tickcolor": "rgb(51,51,51)",
            "ticks": "outside"
           }
          },
          "scene": {
           "xaxis": {
            "backgroundcolor": "rgb(237,237,237)",
            "gridcolor": "white",
            "gridwidth": 2,
            "linecolor": "white",
            "showbackground": true,
            "showgrid": true,
            "tickcolor": "rgb(51,51,51)",
            "ticks": "outside",
            "zerolinecolor": "white"
           },
           "yaxis": {
            "backgroundcolor": "rgb(237,237,237)",
            "gridcolor": "white",
            "gridwidth": 2,
            "linecolor": "white",
            "showbackground": true,
            "showgrid": true,
            "tickcolor": "rgb(51,51,51)",
            "ticks": "outside",
            "zerolinecolor": "white"
           },
           "zaxis": {
            "backgroundcolor": "rgb(237,237,237)",
            "gridcolor": "white",
            "gridwidth": 2,
            "linecolor": "white",
            "showbackground": true,
            "showgrid": true,
            "tickcolor": "rgb(51,51,51)",
            "ticks": "outside",
            "zerolinecolor": "white"
           }
          },
          "shapedefaults": {
           "fillcolor": "black",
           "line": {
            "width": 0
           },
           "opacity": 0.3
          },
          "ternary": {
           "aaxis": {
            "gridcolor": "white",
            "linecolor": "white",
            "showgrid": true,
            "tickcolor": "rgb(51,51,51)",
            "ticks": "outside"
           },
           "baxis": {
            "gridcolor": "white",
            "linecolor": "white",
            "showgrid": true,
            "tickcolor": "rgb(51,51,51)",
            "ticks": "outside"
           },
           "bgcolor": "rgb(237,237,237)",
           "caxis": {
            "gridcolor": "white",
            "linecolor": "white",
            "showgrid": true,
            "tickcolor": "rgb(51,51,51)",
            "ticks": "outside"
           }
          },
          "xaxis": {
           "automargin": true,
           "gridcolor": "white",
           "linecolor": "white",
           "showgrid": true,
           "tickcolor": "rgb(51,51,51)",
           "ticks": "outside",
           "title": {
            "standoff": 15
           },
           "zerolinecolor": "white"
          },
          "yaxis": {
           "automargin": true,
           "gridcolor": "white",
           "linecolor": "white",
           "showgrid": true,
           "tickcolor": "rgb(51,51,51)",
           "ticks": "outside",
           "title": {
            "standoff": 15
           },
           "zerolinecolor": "white"
          }
         }
        },
        "title": {
         "text": "<b>Censo Escolar 2021: Análise da quantidade de Alunos / Professores no municipio de Dois Irmãos<b>"
        },
        "width": 1000,
        "xaxis": {
         "anchor": "y",
         "domain": [
          0,
          1
         ],
         "range": [
          -4,
          1050
         ],
         "title": {
          "text": "Quantidade de Matículas"
         }
        },
        "yaxis": {
         "anchor": "x",
         "domain": [
          0,
          1
         ],
         "range": [
          -4,
          50
         ],
         "title": {
          "text": "Quantidade de Docentes"
         }
        }
       }
      }
     },
     "metadata": {},
     "output_type": "display_data"
    }
   ],
   "source": [
    "grafic_dois_irmaos.update_layout(\n",
    "  title=\"<b>Censo Escolar 2021: Análise da quantidade de Alunos / Professores no municipio de Dois Irmãos<b>\",\n",
    "  font_size= 14\n",
    ")\n",
    "\n",
    "grafic_dois_irmaos.update_traces(marker_color = \"orange\")\n",
    "#Aplicando borda nos circulos\n",
    "grafic_dois_irmaos.update_traces(marker_line_width = 1, marker_line_color= \"black\")\n",
    "\n",
    "\n",
    "# Alterando os títulos dos eixos x e y:\n",
    "grafic_dois_irmaos.update_layout(\n",
    "    xaxis_title= \"Quantidade de Matículas\",\n",
    "    yaxis_title= \"Quantidade de Docentes\",\n",
    "    font_size= 12\n",
    ")\n",
    "\n",
    "# Incluindo a fonte\n",
    "grafic_dois_irmaos.add_annotation(\n",
    "    text= \"Fonte: INEP\",\n",
    "    xref= \"paper\",\n",
    "    yref= \"paper\",\n",
    "    font_color= \"darkgrey\",\n",
    "    font_size= 12,\n",
    "    showarrow= False,\n",
    "    y= 1,\n",
    "    x= 0.99\n",
    ")"
   ]
  },
  {
   "cell_type": "markdown",
   "metadata": {},
   "source": [
    "#### Nova Petropólis"
   ]
  },
  {
   "cell_type": "code",
   "execution_count": 243,
   "metadata": {},
   "outputs": [],
   "source": [
    "df_np = df_censo_local_dif_in_RS.query(\"NO_MUNICIPIO == 'Nova Petrópolis'\")\n",
    "\n",
    "df_np = df_np[[\"QT_MAT_BAS\",\"QT_DOC_BAS\", \"QT_TUR_BAS\", \"NO_ENTIDADE\", \"NO_MUNICIPIO\"]]\n",
    "\n",
    "df_np = df_np.dropna(subset=[\"QT_TUR_BAS\"])\n",
    "\n",
    "df_np[\"QT_MAT_POR_DOC\"] = df_np['QT_MAT_BAS'] / df_np['QT_DOC_BAS']"
   ]
  },
  {
   "cell_type": "code",
   "execution_count": 244,
   "metadata": {},
   "outputs": [],
   "source": [
    "grafic_np = px.scatter(df_np, \n",
    "    x= \"QT_MAT_BAS\", \n",
    "    y= \"QT_DOC_BAS\", \n",
    "    size= \"QT_MAT_POR_DOC\",\n",
    "    hover_data=[\"NO_ENTIDADE\"],\n",
    "    size_max= 60,\n",
    "    template= \"ggplot2\",\n",
    "    height= 500,\n",
    "    width= 1000,\n",
    "    opacity= .75,\n",
    "    range_x=[-5,600],\n",
    "    range_y=[-4,40]\n",
    ")"
   ]
  },
  {
   "cell_type": "code",
   "execution_count": 245,
   "metadata": {},
   "outputs": [
    {
     "data": {
      "application/vnd.plotly.v1+json": {
       "config": {
        "plotlyServerURL": "https://plot.ly"
       },
       "data": [
        {
         "customdata": [
          [
           "EMEI PROFª IGNEZ CECCHINI DEPPE"
          ],
          [
           "EMEI OTTINHO"
          ],
          [
           "EMEI CONSTRUINDO O SABER"
          ],
          [
           "EMEF LUIZ LOESER"
          ],
          [
           "ESC EST ENS MED 1 DE MAIO"
          ],
          [
           "ESC EST ENS FUN PIA"
          ],
          [
           "ESC EST ENS FUN SAO JOSE"
          ],
          [
           "ESC EST ENS FUN PADRE AMSTAD"
          ],
          [
           "COL ESTADUAL PADRE WERNER"
          ],
          [
           "EMEF PEDRO BECK FILHO"
          ],
          [
           "ESCOLA TECNICA BOM PASTOR"
          ],
          [
           "COLEGIO CENECISTA FREDERICO MICHAELSEN"
          ],
          [
           "EMEF AUGUSTO GUILHERME GAEDICKE"
          ],
          [
           "APAES ESCOLA DE EDUCACAO ESPECIAL SOL NASCENTE"
          ],
          [
           "EMEF BOM PASTOR"
          ],
          [
           "EMEI LYDIA BRAUN"
          ],
          [
           "EMEI PIRULITO"
          ],
          [
           "EMEF OTTO HOFFMANN"
          ],
          [
           "EMEI PINGUINHO DE GENTE"
          ],
          [
           "EMEI URSINHO CARINHOSO"
          ],
          [
           "EMEI JACOB JAEGER"
          ]
         ],
         "hovertemplate": "QT_MAT_BAS=%{x}<br>QT_DOC_BAS=%{y}<br>QT_MAT_POR_DOC=%{marker.size}<br>NO_ENTIDADE=%{customdata[0]}<extra></extra>",
         "legendgroup": "",
         "marker": {
          "color": "turquoise",
          "line": {
           "color": "black",
           "width": 1
          },
          "opacity": 0.75,
          "size": [
           16,
           26,
           81.5,
           13.470588235294118,
           22.1875,
           7.9,
           11.692307692307692,
           8.882352941176471,
           23.333333333333332,
           4.166666666666667,
           81.8,
           14.066666666666666,
           24.545454545454547,
           1.6111111111111112,
           14.26923076923077,
           7.666666666666667,
           4.733333333333333,
           15.363636363636363,
           7.705882352941177,
           31.5,
           35
          ],
          "sizemode": "area",
          "sizeref": 0.02272222222222222,
          "symbol": "circle"
         },
         "mode": "markers",
         "name": "",
         "orientation": "v",
         "showlegend": false,
         "type": "scatter",
         "x": [
          128,
          182,
          163,
          229,
          355,
          158,
          152,
          151,
          560,
          150,
          409,
          211,
          270,
          29,
          371,
          69,
          71,
          338,
          131,
          189,
          140
         ],
         "xaxis": "x",
         "y": [
          8,
          7,
          2,
          17,
          16,
          20,
          13,
          17,
          24,
          36,
          5,
          15,
          11,
          18,
          26,
          9,
          15,
          22,
          17,
          6,
          4
         ],
         "yaxis": "y"
        }
       ],
       "layout": {
        "annotations": [
         {
          "font": {
           "color": "darkgrey",
           "size": 12
          },
          "showarrow": false,
          "text": "Fonte: INEP",
          "x": 0.99,
          "xref": "paper",
          "y": 1,
          "yref": "paper"
         }
        ],
        "font": {
         "size": 12
        },
        "height": 500,
        "legend": {
         "itemsizing": "constant",
         "tracegroupgap": 0
        },
        "margin": {
         "t": 60
        },
        "template": {
         "data": {
          "bar": [
           {
            "error_x": {
             "color": "rgb(51,51,51)"
            },
            "error_y": {
             "color": "rgb(51,51,51)"
            },
            "marker": {
             "line": {
              "color": "rgb(237,237,237)",
              "width": 0.5
             },
             "pattern": {
              "fillmode": "overlay",
              "size": 10,
              "solidity": 0.2
             }
            },
            "type": "bar"
           }
          ],
          "barpolar": [
           {
            "marker": {
             "line": {
              "color": "rgb(237,237,237)",
              "width": 0.5
             },
             "pattern": {
              "fillmode": "overlay",
              "size": 10,
              "solidity": 0.2
             }
            },
            "type": "barpolar"
           }
          ],
          "carpet": [
           {
            "aaxis": {
             "endlinecolor": "rgb(51,51,51)",
             "gridcolor": "white",
             "linecolor": "white",
             "minorgridcolor": "white",
             "startlinecolor": "rgb(51,51,51)"
            },
            "baxis": {
             "endlinecolor": "rgb(51,51,51)",
             "gridcolor": "white",
             "linecolor": "white",
             "minorgridcolor": "white",
             "startlinecolor": "rgb(51,51,51)"
            },
            "type": "carpet"
           }
          ],
          "choropleth": [
           {
            "colorbar": {
             "outlinewidth": 0,
             "tickcolor": "rgb(237,237,237)",
             "ticklen": 6,
             "ticks": "inside"
            },
            "type": "choropleth"
           }
          ],
          "contour": [
           {
            "colorbar": {
             "outlinewidth": 0,
             "tickcolor": "rgb(237,237,237)",
             "ticklen": 6,
             "ticks": "inside"
            },
            "colorscale": [
             [
              0,
              "rgb(20,44,66)"
             ],
             [
              1,
              "rgb(90,179,244)"
             ]
            ],
            "type": "contour"
           }
          ],
          "contourcarpet": [
           {
            "colorbar": {
             "outlinewidth": 0,
             "tickcolor": "rgb(237,237,237)",
             "ticklen": 6,
             "ticks": "inside"
            },
            "type": "contourcarpet"
           }
          ],
          "heatmap": [
           {
            "colorbar": {
             "outlinewidth": 0,
             "tickcolor": "rgb(237,237,237)",
             "ticklen": 6,
             "ticks": "inside"
            },
            "colorscale": [
             [
              0,
              "rgb(20,44,66)"
             ],
             [
              1,
              "rgb(90,179,244)"
             ]
            ],
            "type": "heatmap"
           }
          ],
          "heatmapgl": [
           {
            "colorbar": {
             "outlinewidth": 0,
             "tickcolor": "rgb(237,237,237)",
             "ticklen": 6,
             "ticks": "inside"
            },
            "colorscale": [
             [
              0,
              "rgb(20,44,66)"
             ],
             [
              1,
              "rgb(90,179,244)"
             ]
            ],
            "type": "heatmapgl"
           }
          ],
          "histogram": [
           {
            "marker": {
             "pattern": {
              "fillmode": "overlay",
              "size": 10,
              "solidity": 0.2
             }
            },
            "type": "histogram"
           }
          ],
          "histogram2d": [
           {
            "colorbar": {
             "outlinewidth": 0,
             "tickcolor": "rgb(237,237,237)",
             "ticklen": 6,
             "ticks": "inside"
            },
            "colorscale": [
             [
              0,
              "rgb(20,44,66)"
             ],
             [
              1,
              "rgb(90,179,244)"
             ]
            ],
            "type": "histogram2d"
           }
          ],
          "histogram2dcontour": [
           {
            "colorbar": {
             "outlinewidth": 0,
             "tickcolor": "rgb(237,237,237)",
             "ticklen": 6,
             "ticks": "inside"
            },
            "colorscale": [
             [
              0,
              "rgb(20,44,66)"
             ],
             [
              1,
              "rgb(90,179,244)"
             ]
            ],
            "type": "histogram2dcontour"
           }
          ],
          "mesh3d": [
           {
            "colorbar": {
             "outlinewidth": 0,
             "tickcolor": "rgb(237,237,237)",
             "ticklen": 6,
             "ticks": "inside"
            },
            "type": "mesh3d"
           }
          ],
          "parcoords": [
           {
            "line": {
             "colorbar": {
              "outlinewidth": 0,
              "tickcolor": "rgb(237,237,237)",
              "ticklen": 6,
              "ticks": "inside"
             }
            },
            "type": "parcoords"
           }
          ],
          "pie": [
           {
            "automargin": true,
            "type": "pie"
           }
          ],
          "scatter": [
           {
            "fillpattern": {
             "fillmode": "overlay",
             "size": 10,
             "solidity": 0.2
            },
            "type": "scatter"
           }
          ],
          "scatter3d": [
           {
            "line": {
             "colorbar": {
              "outlinewidth": 0,
              "tickcolor": "rgb(237,237,237)",
              "ticklen": 6,
              "ticks": "inside"
             }
            },
            "marker": {
             "colorbar": {
              "outlinewidth": 0,
              "tickcolor": "rgb(237,237,237)",
              "ticklen": 6,
              "ticks": "inside"
             }
            },
            "type": "scatter3d"
           }
          ],
          "scattercarpet": [
           {
            "marker": {
             "colorbar": {
              "outlinewidth": 0,
              "tickcolor": "rgb(237,237,237)",
              "ticklen": 6,
              "ticks": "inside"
             }
            },
            "type": "scattercarpet"
           }
          ],
          "scattergeo": [
           {
            "marker": {
             "colorbar": {
              "outlinewidth": 0,
              "tickcolor": "rgb(237,237,237)",
              "ticklen": 6,
              "ticks": "inside"
             }
            },
            "type": "scattergeo"
           }
          ],
          "scattergl": [
           {
            "marker": {
             "colorbar": {
              "outlinewidth": 0,
              "tickcolor": "rgb(237,237,237)",
              "ticklen": 6,
              "ticks": "inside"
             }
            },
            "type": "scattergl"
           }
          ],
          "scattermapbox": [
           {
            "marker": {
             "colorbar": {
              "outlinewidth": 0,
              "tickcolor": "rgb(237,237,237)",
              "ticklen": 6,
              "ticks": "inside"
             }
            },
            "type": "scattermapbox"
           }
          ],
          "scatterpolar": [
           {
            "marker": {
             "colorbar": {
              "outlinewidth": 0,
              "tickcolor": "rgb(237,237,237)",
              "ticklen": 6,
              "ticks": "inside"
             }
            },
            "type": "scatterpolar"
           }
          ],
          "scatterpolargl": [
           {
            "marker": {
             "colorbar": {
              "outlinewidth": 0,
              "tickcolor": "rgb(237,237,237)",
              "ticklen": 6,
              "ticks": "inside"
             }
            },
            "type": "scatterpolargl"
           }
          ],
          "scatterternary": [
           {
            "marker": {
             "colorbar": {
              "outlinewidth": 0,
              "tickcolor": "rgb(237,237,237)",
              "ticklen": 6,
              "ticks": "inside"
             }
            },
            "type": "scatterternary"
           }
          ],
          "surface": [
           {
            "colorbar": {
             "outlinewidth": 0,
             "tickcolor": "rgb(237,237,237)",
             "ticklen": 6,
             "ticks": "inside"
            },
            "colorscale": [
             [
              0,
              "rgb(20,44,66)"
             ],
             [
              1,
              "rgb(90,179,244)"
             ]
            ],
            "type": "surface"
           }
          ],
          "table": [
           {
            "cells": {
             "fill": {
              "color": "rgb(237,237,237)"
             },
             "line": {
              "color": "white"
             }
            },
            "header": {
             "fill": {
              "color": "rgb(217,217,217)"
             },
             "line": {
              "color": "white"
             }
            },
            "type": "table"
           }
          ]
         },
         "layout": {
          "annotationdefaults": {
           "arrowhead": 0,
           "arrowwidth": 1
          },
          "autotypenumbers": "strict",
          "coloraxis": {
           "colorbar": {
            "outlinewidth": 0,
            "tickcolor": "rgb(237,237,237)",
            "ticklen": 6,
            "ticks": "inside"
           }
          },
          "colorscale": {
           "sequential": [
            [
             0,
             "rgb(20,44,66)"
            ],
            [
             1,
             "rgb(90,179,244)"
            ]
           ],
           "sequentialminus": [
            [
             0,
             "rgb(20,44,66)"
            ],
            [
             1,
             "rgb(90,179,244)"
            ]
           ]
          },
          "colorway": [
           "#F8766D",
           "#A3A500",
           "#00BF7D",
           "#00B0F6",
           "#E76BF3"
          ],
          "font": {
           "color": "rgb(51,51,51)"
          },
          "geo": {
           "bgcolor": "white",
           "lakecolor": "white",
           "landcolor": "rgb(237,237,237)",
           "showlakes": true,
           "showland": true,
           "subunitcolor": "white"
          },
          "hoverlabel": {
           "align": "left"
          },
          "hovermode": "closest",
          "paper_bgcolor": "white",
          "plot_bgcolor": "rgb(237,237,237)",
          "polar": {
           "angularaxis": {
            "gridcolor": "white",
            "linecolor": "white",
            "showgrid": true,
            "tickcolor": "rgb(51,51,51)",
            "ticks": "outside"
           },
           "bgcolor": "rgb(237,237,237)",
           "radialaxis": {
            "gridcolor": "white",
            "linecolor": "white",
            "showgrid": true,
            "tickcolor": "rgb(51,51,51)",
            "ticks": "outside"
           }
          },
          "scene": {
           "xaxis": {
            "backgroundcolor": "rgb(237,237,237)",
            "gridcolor": "white",
            "gridwidth": 2,
            "linecolor": "white",
            "showbackground": true,
            "showgrid": true,
            "tickcolor": "rgb(51,51,51)",
            "ticks": "outside",
            "zerolinecolor": "white"
           },
           "yaxis": {
            "backgroundcolor": "rgb(237,237,237)",
            "gridcolor": "white",
            "gridwidth": 2,
            "linecolor": "white",
            "showbackground": true,
            "showgrid": true,
            "tickcolor": "rgb(51,51,51)",
            "ticks": "outside",
            "zerolinecolor": "white"
           },
           "zaxis": {
            "backgroundcolor": "rgb(237,237,237)",
            "gridcolor": "white",
            "gridwidth": 2,
            "linecolor": "white",
            "showbackground": true,
            "showgrid": true,
            "tickcolor": "rgb(51,51,51)",
            "ticks": "outside",
            "zerolinecolor": "white"
           }
          },
          "shapedefaults": {
           "fillcolor": "black",
           "line": {
            "width": 0
           },
           "opacity": 0.3
          },
          "ternary": {
           "aaxis": {
            "gridcolor": "white",
            "linecolor": "white",
            "showgrid": true,
            "tickcolor": "rgb(51,51,51)",
            "ticks": "outside"
           },
           "baxis": {
            "gridcolor": "white",
            "linecolor": "white",
            "showgrid": true,
            "tickcolor": "rgb(51,51,51)",
            "ticks": "outside"
           },
           "bgcolor": "rgb(237,237,237)",
           "caxis": {
            "gridcolor": "white",
            "linecolor": "white",
            "showgrid": true,
            "tickcolor": "rgb(51,51,51)",
            "ticks": "outside"
           }
          },
          "xaxis": {
           "automargin": true,
           "gridcolor": "white",
           "linecolor": "white",
           "showgrid": true,
           "tickcolor": "rgb(51,51,51)",
           "ticks": "outside",
           "title": {
            "standoff": 15
           },
           "zerolinecolor": "white"
          },
          "yaxis": {
           "automargin": true,
           "gridcolor": "white",
           "linecolor": "white",
           "showgrid": true,
           "tickcolor": "rgb(51,51,51)",
           "ticks": "outside",
           "title": {
            "standoff": 15
           },
           "zerolinecolor": "white"
          }
         }
        },
        "title": {
         "text": "<b>Censo Escolar 2021: Análise da quantidade de Alunos / Professores no municipio de Nova Petrópolis<b>"
        },
        "width": 1000,
        "xaxis": {
         "anchor": "y",
         "domain": [
          0,
          1
         ],
         "range": [
          -5,
          600
         ],
         "title": {
          "text": "Quantidade de Matículas"
         }
        },
        "yaxis": {
         "anchor": "x",
         "domain": [
          0,
          1
         ],
         "range": [
          -4,
          40
         ],
         "title": {
          "text": "Quantidade de Docentes"
         }
        }
       }
      }
     },
     "metadata": {},
     "output_type": "display_data"
    }
   ],
   "source": [
    "grafic_np.update_layout(\n",
    "  title=\"<b>Censo Escolar 2021: Análise da quantidade de Alunos / Professores no municipio de Nova Petrópolis<b>\",\n",
    "  font_size= 14\n",
    ")\n",
    "\n",
    "grafic_np.update_traces(marker_color = \"turquoise\")\n",
    "\n",
    "#Aplicando borda nos circulos\n",
    "\n",
    "grafic_np.update_traces(marker_line_width = 1, marker_line_color= \"black\")\n",
    "\n",
    "\n",
    "# Alterando os títulos dos eixos x e y:\n",
    "grafic_np.update_layout(\n",
    "    xaxis_title= \"Quantidade de Matículas\",\n",
    "    yaxis_title= \"Quantidade de Docentes\",\n",
    "    font_size= 12\n",
    ")\n",
    "\n",
    "# Incluindo a fonte\n",
    "grafic_np.add_annotation(\n",
    "    text= \"Fonte: INEP\",\n",
    "    xref= \"paper\",\n",
    "    yref= \"paper\",\n",
    "    font_color= \"darkgrey\",\n",
    "    font_size= 12,\n",
    "    showarrow= False,\n",
    "    y= 1,\n",
    "    x= 0.99\n",
    ")\n"
   ]
  },
  {
   "cell_type": "markdown",
   "metadata": {},
   "source": [
    "#### Parobé"
   ]
  },
  {
   "cell_type": "code",
   "execution_count": 246,
   "metadata": {},
   "outputs": [],
   "source": [
    "df_parobe = df_censo_local_dif_in_RS.query(\"NO_MUNICIPIO == 'Parobé'\")\n",
    "\n",
    "df_parobe = df_parobe[[\"QT_MAT_BAS\",\"QT_DOC_BAS\",\"QT_TUR_BAS\",\"NO_ENTIDADE\", \"NO_MUNICIPIO\"]]\n",
    "\n",
    "df_parobe = df_parobe.dropna(subset=[\"QT_TUR_BAS\"])\n",
    "\n",
    "df_parobe[\"QT_MAT_POR_DOC\"] = df_parobe['QT_MAT_BAS'] / df_parobe['QT_DOC_BAS']"
   ]
  },
  {
   "cell_type": "code",
   "execution_count": 247,
   "metadata": {},
   "outputs": [],
   "source": [
    "grafic_parobe = px.scatter(df_parobe, \n",
    "    x= \"QT_MAT_BAS\", \n",
    "    y= \"QT_DOC_BAS\", \n",
    "    size= \"QT_MAT_POR_DOC\",\n",
    "    hover_data=[\"NO_ENTIDADE\"],\n",
    "    size_max= 60,\n",
    "    template= \"ggplot2\",\n",
    "    height= 500,\n",
    "    width= 1000,\n",
    "    opacity= .75,\n",
    "    range_x=[-4,1000],\n",
    "    range_y=[-9,70]\n",
    ")"
   ]
  },
  {
   "cell_type": "code",
   "execution_count": 248,
   "metadata": {},
   "outputs": [
    {
     "data": {
      "application/vnd.plotly.v1+json": {
       "config": {
        "plotlyServerURL": "https://plot.ly"
       },
       "data": [
        {
         "customdata": [
          [
           "EMEI AZALEIA"
          ],
          [
           "ESCOLA ED INF DOCE INFANCIA"
          ],
          [
           "EEI MACA DO AMOR"
          ],
          [
           "EMEI FAVO DE MEL"
          ],
          [
           "EMEF DINIZ MARTINS RANGEL"
          ],
          [
           "EMEF JORGE FLECK"
          ],
          [
           "EMEF IDALINO PEDRO DA SILVA"
          ],
          [
           "EMEF PROF MARIETA MELITA DA SILVA"
          ],
          [
           "EMEF MALTUS KRUMMENAUER"
          ],
          [
           "EMEF ROMILDA SIBEL RENCK"
          ],
          [
           "EMEF JOAO MUCK"
          ],
          [
           "ESC EST ENS MED ENGENHEIRO PAROBE"
          ],
          [
           "EMEF PADRE AFONSO KIST"
          ],
          [
           "EMEF ARTUINO ARSAND"
          ],
          [
           "EMEF PROF ANA MARIA FAY DOS SANTOS"
          ],
          [
           "COL ESTADUAL JOAO MOSMANN"
          ],
          [
           "ESC EST ENS MED ADELINA DA CUNHA"
          ],
          [
           "ESC EST ENS FUN NILO CARLITO KOETZ"
          ],
          [
           "EMEF MARIA FRANCISCA DA SILVA"
          ],
          [
           "EMEF MOISES DE SOUZA PIRES MOSMANN"
          ],
          [
           "EMEI JARDIM DE INFANCIA THENO JOSE BERLITZ"
          ],
          [
           "EMEF LEOPOLDO FREDERICO WILLERS"
          ],
          [
           "EMEF TERESINHA IVONE HOMEM"
          ],
          [
           "EMEF GETULIO DORNELLES VARGAS"
          ],
          [
           "EMEF JOAO ANGELO PANDOLFO"
          ],
          [
           "EMEF PROF NOEMY FAY DOS SANTOS"
          ],
          [
           "EMEE PROF FLAVIA MARIA BRITO"
          ],
          [
           "EMEI PROF MARIAZINHA MARIA NUNES MARTINS"
          ],
          [
           "EMEI URSINHO ENCANTADO"
          ],
          [
           "EMEI BRANCA DE NEVE"
          ],
          [
           "ANJINHO ARTEIRO EDUCACAO INFANTIL"
          ],
          [
           "EMEI MUNDO COLORIDO"
          ],
          [
           "EMEI ALGODAO DOCE"
          ],
          [
           "ESCOLA DE EDUCACAO INFANTIL ESTRELINHA LTDA ME"
          ],
          [
           "NUCLEO MUNICIPAL DE EDUCACAO DE JOVENS E ADULTOS DE PAROBE"
          ],
          [
           "ESC EDUC INF CHAPEUZINHO VERMELHO"
          ],
          [
           "ESCOLA EDUCACAO INF PEQUENO PRINCIPE"
          ],
          [
           "EMEI DOCE MEL"
          ],
          [
           "ESC EST ENS MED JOSE AUGUSTO HENEMANN"
          ]
         ],
         "hovertemplate": "QT_MAT_BAS=%{x}<br>QT_DOC_BAS=%{y}<br>QT_MAT_POR_DOC=%{marker.size}<br>NO_ENTIDADE=%{customdata[0]}<extra></extra>",
         "legendgroup": "",
         "marker": {
          "color": "brown",
          "line": {
           "color": "black",
           "width": 1
          },
          "opacity": 0.75,
          "size": [
           118.33333333333333,
           20.333333333333332,
           8.2,
           19.5,
           21.72222222222222,
           26.454545454545453,
           16.41860465116279,
           8.487179487179487,
           9.093023255813954,
           58.833333333333336,
           11.76923076923077,
           12.075471698113208,
           29.375,
           17.857142857142858,
           17.666666666666668,
           13.878787878787879,
           13.75,
           1.697674418604651,
           32.473684210526315,
           9.478260869565217,
           33.666666666666664,
           21.166666666666668,
           19.928571428571427,
           75.2,
           3.2203389830508473,
           105.75,
           8,
           13.8,
           7.3,
           2.6923076923076925,
           4.6923076923076925,
           12.571428571428571,
           10.857142857142858,
           16,
           32.5,
           17.666666666666668,
           10.8,
           2.909090909090909,
           7.484375
          ],
          "sizemode": "area",
          "sizeref": 0.03287037037037037,
          "symbol": "circle"
         },
         "mode": "markers",
         "name": "",
         "orientation": "v",
         "showlegend": false,
         "type": "scatter",
         "x": [
          355,
          61,
          41,
          78,
          391,
          291,
          706,
          331,
          391,
          353,
          459,
          640,
          235,
          250,
          954,
          458,
          275,
          73,
          617,
          218,
          101,
          508,
          279,
          752,
          190,
          423,
          80,
          138,
          73,
          35,
          61,
          88,
          152,
          32,
          325,
          53,
          54,
          64,
          479
         ],
         "xaxis": "x",
         "y": [
          3,
          3,
          5,
          4,
          18,
          11,
          43,
          39,
          43,
          6,
          39,
          53,
          8,
          14,
          54,
          33,
          20,
          43,
          19,
          23,
          3,
          24,
          14,
          10,
          59,
          4,
          10,
          10,
          10,
          13,
          13,
          7,
          14,
          2,
          10,
          3,
          5,
          22,
          64
         ],
         "yaxis": "y"
        }
       ],
       "layout": {
        "annotations": [
         {
          "font": {
           "color": "darkgrey",
           "size": 12
          },
          "showarrow": false,
          "text": "Fonte: INEP",
          "x": 0.99,
          "xref": "paper",
          "y": 1,
          "yref": "paper"
         }
        ],
        "font": {
         "size": 12
        },
        "height": 500,
        "legend": {
         "itemsizing": "constant",
         "tracegroupgap": 0
        },
        "margin": {
         "t": 60
        },
        "template": {
         "data": {
          "bar": [
           {
            "error_x": {
             "color": "rgb(51,51,51)"
            },
            "error_y": {
             "color": "rgb(51,51,51)"
            },
            "marker": {
             "line": {
              "color": "rgb(237,237,237)",
              "width": 0.5
             },
             "pattern": {
              "fillmode": "overlay",
              "size": 10,
              "solidity": 0.2
             }
            },
            "type": "bar"
           }
          ],
          "barpolar": [
           {
            "marker": {
             "line": {
              "color": "rgb(237,237,237)",
              "width": 0.5
             },
             "pattern": {
              "fillmode": "overlay",
              "size": 10,
              "solidity": 0.2
             }
            },
            "type": "barpolar"
           }
          ],
          "carpet": [
           {
            "aaxis": {
             "endlinecolor": "rgb(51,51,51)",
             "gridcolor": "white",
             "linecolor": "white",
             "minorgridcolor": "white",
             "startlinecolor": "rgb(51,51,51)"
            },
            "baxis": {
             "endlinecolor": "rgb(51,51,51)",
             "gridcolor": "white",
             "linecolor": "white",
             "minorgridcolor": "white",
             "startlinecolor": "rgb(51,51,51)"
            },
            "type": "carpet"
           }
          ],
          "choropleth": [
           {
            "colorbar": {
             "outlinewidth": 0,
             "tickcolor": "rgb(237,237,237)",
             "ticklen": 6,
             "ticks": "inside"
            },
            "type": "choropleth"
           }
          ],
          "contour": [
           {
            "colorbar": {
             "outlinewidth": 0,
             "tickcolor": "rgb(237,237,237)",
             "ticklen": 6,
             "ticks": "inside"
            },
            "colorscale": [
             [
              0,
              "rgb(20,44,66)"
             ],
             [
              1,
              "rgb(90,179,244)"
             ]
            ],
            "type": "contour"
           }
          ],
          "contourcarpet": [
           {
            "colorbar": {
             "outlinewidth": 0,
             "tickcolor": "rgb(237,237,237)",
             "ticklen": 6,
             "ticks": "inside"
            },
            "type": "contourcarpet"
           }
          ],
          "heatmap": [
           {
            "colorbar": {
             "outlinewidth": 0,
             "tickcolor": "rgb(237,237,237)",
             "ticklen": 6,
             "ticks": "inside"
            },
            "colorscale": [
             [
              0,
              "rgb(20,44,66)"
             ],
             [
              1,
              "rgb(90,179,244)"
             ]
            ],
            "type": "heatmap"
           }
          ],
          "heatmapgl": [
           {
            "colorbar": {
             "outlinewidth": 0,
             "tickcolor": "rgb(237,237,237)",
             "ticklen": 6,
             "ticks": "inside"
            },
            "colorscale": [
             [
              0,
              "rgb(20,44,66)"
             ],
             [
              1,
              "rgb(90,179,244)"
             ]
            ],
            "type": "heatmapgl"
           }
          ],
          "histogram": [
           {
            "marker": {
             "pattern": {
              "fillmode": "overlay",
              "size": 10,
              "solidity": 0.2
             }
            },
            "type": "histogram"
           }
          ],
          "histogram2d": [
           {
            "colorbar": {
             "outlinewidth": 0,
             "tickcolor": "rgb(237,237,237)",
             "ticklen": 6,
             "ticks": "inside"
            },
            "colorscale": [
             [
              0,
              "rgb(20,44,66)"
             ],
             [
              1,
              "rgb(90,179,244)"
             ]
            ],
            "type": "histogram2d"
           }
          ],
          "histogram2dcontour": [
           {
            "colorbar": {
             "outlinewidth": 0,
             "tickcolor": "rgb(237,237,237)",
             "ticklen": 6,
             "ticks": "inside"
            },
            "colorscale": [
             [
              0,
              "rgb(20,44,66)"
             ],
             [
              1,
              "rgb(90,179,244)"
             ]
            ],
            "type": "histogram2dcontour"
           }
          ],
          "mesh3d": [
           {
            "colorbar": {
             "outlinewidth": 0,
             "tickcolor": "rgb(237,237,237)",
             "ticklen": 6,
             "ticks": "inside"
            },
            "type": "mesh3d"
           }
          ],
          "parcoords": [
           {
            "line": {
             "colorbar": {
              "outlinewidth": 0,
              "tickcolor": "rgb(237,237,237)",
              "ticklen": 6,
              "ticks": "inside"
             }
            },
            "type": "parcoords"
           }
          ],
          "pie": [
           {
            "automargin": true,
            "type": "pie"
           }
          ],
          "scatter": [
           {
            "fillpattern": {
             "fillmode": "overlay",
             "size": 10,
             "solidity": 0.2
            },
            "type": "scatter"
           }
          ],
          "scatter3d": [
           {
            "line": {
             "colorbar": {
              "outlinewidth": 0,
              "tickcolor": "rgb(237,237,237)",
              "ticklen": 6,
              "ticks": "inside"
             }
            },
            "marker": {
             "colorbar": {
              "outlinewidth": 0,
              "tickcolor": "rgb(237,237,237)",
              "ticklen": 6,
              "ticks": "inside"
             }
            },
            "type": "scatter3d"
           }
          ],
          "scattercarpet": [
           {
            "marker": {
             "colorbar": {
              "outlinewidth": 0,
              "tickcolor": "rgb(237,237,237)",
              "ticklen": 6,
              "ticks": "inside"
             }
            },
            "type": "scattercarpet"
           }
          ],
          "scattergeo": [
           {
            "marker": {
             "colorbar": {
              "outlinewidth": 0,
              "tickcolor": "rgb(237,237,237)",
              "ticklen": 6,
              "ticks": "inside"
             }
            },
            "type": "scattergeo"
           }
          ],
          "scattergl": [
           {
            "marker": {
             "colorbar": {
              "outlinewidth": 0,
              "tickcolor": "rgb(237,237,237)",
              "ticklen": 6,
              "ticks": "inside"
             }
            },
            "type": "scattergl"
           }
          ],
          "scattermapbox": [
           {
            "marker": {
             "colorbar": {
              "outlinewidth": 0,
              "tickcolor": "rgb(237,237,237)",
              "ticklen": 6,
              "ticks": "inside"
             }
            },
            "type": "scattermapbox"
           }
          ],
          "scatterpolar": [
           {
            "marker": {
             "colorbar": {
              "outlinewidth": 0,
              "tickcolor": "rgb(237,237,237)",
              "ticklen": 6,
              "ticks": "inside"
             }
            },
            "type": "scatterpolar"
           }
          ],
          "scatterpolargl": [
           {
            "marker": {
             "colorbar": {
              "outlinewidth": 0,
              "tickcolor": "rgb(237,237,237)",
              "ticklen": 6,
              "ticks": "inside"
             }
            },
            "type": "scatterpolargl"
           }
          ],
          "scatterternary": [
           {
            "marker": {
             "colorbar": {
              "outlinewidth": 0,
              "tickcolor": "rgb(237,237,237)",
              "ticklen": 6,
              "ticks": "inside"
             }
            },
            "type": "scatterternary"
           }
          ],
          "surface": [
           {
            "colorbar": {
             "outlinewidth": 0,
             "tickcolor": "rgb(237,237,237)",
             "ticklen": 6,
             "ticks": "inside"
            },
            "colorscale": [
             [
              0,
              "rgb(20,44,66)"
             ],
             [
              1,
              "rgb(90,179,244)"
             ]
            ],
            "type": "surface"
           }
          ],
          "table": [
           {
            "cells": {
             "fill": {
              "color": "rgb(237,237,237)"
             },
             "line": {
              "color": "white"
             }
            },
            "header": {
             "fill": {
              "color": "rgb(217,217,217)"
             },
             "line": {
              "color": "white"
             }
            },
            "type": "table"
           }
          ]
         },
         "layout": {
          "annotationdefaults": {
           "arrowhead": 0,
           "arrowwidth": 1
          },
          "autotypenumbers": "strict",
          "coloraxis": {
           "colorbar": {
            "outlinewidth": 0,
            "tickcolor": "rgb(237,237,237)",
            "ticklen": 6,
            "ticks": "inside"
           }
          },
          "colorscale": {
           "sequential": [
            [
             0,
             "rgb(20,44,66)"
            ],
            [
             1,
             "rgb(90,179,244)"
            ]
           ],
           "sequentialminus": [
            [
             0,
             "rgb(20,44,66)"
            ],
            [
             1,
             "rgb(90,179,244)"
            ]
           ]
          },
          "colorway": [
           "#F8766D",
           "#A3A500",
           "#00BF7D",
           "#00B0F6",
           "#E76BF3"
          ],
          "font": {
           "color": "rgb(51,51,51)"
          },
          "geo": {
           "bgcolor": "white",
           "lakecolor": "white",
           "landcolor": "rgb(237,237,237)",
           "showlakes": true,
           "showland": true,
           "subunitcolor": "white"
          },
          "hoverlabel": {
           "align": "left"
          },
          "hovermode": "closest",
          "paper_bgcolor": "white",
          "plot_bgcolor": "rgb(237,237,237)",
          "polar": {
           "angularaxis": {
            "gridcolor": "white",
            "linecolor": "white",
            "showgrid": true,
            "tickcolor": "rgb(51,51,51)",
            "ticks": "outside"
           },
           "bgcolor": "rgb(237,237,237)",
           "radialaxis": {
            "gridcolor": "white",
            "linecolor": "white",
            "showgrid": true,
            "tickcolor": "rgb(51,51,51)",
            "ticks": "outside"
           }
          },
          "scene": {
           "xaxis": {
            "backgroundcolor": "rgb(237,237,237)",
            "gridcolor": "white",
            "gridwidth": 2,
            "linecolor": "white",
            "showbackground": true,
            "showgrid": true,
            "tickcolor": "rgb(51,51,51)",
            "ticks": "outside",
            "zerolinecolor": "white"
           },
           "yaxis": {
            "backgroundcolor": "rgb(237,237,237)",
            "gridcolor": "white",
            "gridwidth": 2,
            "linecolor": "white",
            "showbackground": true,
            "showgrid": true,
            "tickcolor": "rgb(51,51,51)",
            "ticks": "outside",
            "zerolinecolor": "white"
           },
           "zaxis": {
            "backgroundcolor": "rgb(237,237,237)",
            "gridcolor": "white",
            "gridwidth": 2,
            "linecolor": "white",
            "showbackground": true,
            "showgrid": true,
            "tickcolor": "rgb(51,51,51)",
            "ticks": "outside",
            "zerolinecolor": "white"
           }
          },
          "shapedefaults": {
           "fillcolor": "black",
           "line": {
            "width": 0
           },
           "opacity": 0.3
          },
          "ternary": {
           "aaxis": {
            "gridcolor": "white",
            "linecolor": "white",
            "showgrid": true,
            "tickcolor": "rgb(51,51,51)",
            "ticks": "outside"
           },
           "baxis": {
            "gridcolor": "white",
            "linecolor": "white",
            "showgrid": true,
            "tickcolor": "rgb(51,51,51)",
            "ticks": "outside"
           },
           "bgcolor": "rgb(237,237,237)",
           "caxis": {
            "gridcolor": "white",
            "linecolor": "white",
            "showgrid": true,
            "tickcolor": "rgb(51,51,51)",
            "ticks": "outside"
           }
          },
          "xaxis": {
           "automargin": true,
           "gridcolor": "white",
           "linecolor": "white",
           "showgrid": true,
           "tickcolor": "rgb(51,51,51)",
           "ticks": "outside",
           "title": {
            "standoff": 15
           },
           "zerolinecolor": "white"
          },
          "yaxis": {
           "automargin": true,
           "gridcolor": "white",
           "linecolor": "white",
           "showgrid": true,
           "tickcolor": "rgb(51,51,51)",
           "ticks": "outside",
           "title": {
            "standoff": 15
           },
           "zerolinecolor": "white"
          }
         }
        },
        "title": {
         "text": "<b>Censo Escolar 2021: Análise da quantidade de Alunos / Professores no municipio de Parobé<b>"
        },
        "width": 1000,
        "xaxis": {
         "anchor": "y",
         "domain": [
          0,
          1
         ],
         "range": [
          -4,
          1000
         ],
         "title": {
          "text": "Quantidade de Matículas"
         }
        },
        "yaxis": {
         "anchor": "x",
         "domain": [
          0,
          1
         ],
         "range": [
          -9,
          70
         ],
         "title": {
          "text": "Quantidade de Docentes"
         }
        }
       }
      }
     },
     "metadata": {},
     "output_type": "display_data"
    }
   ],
   "source": [
    "grafic_parobe.update_layout(\n",
    "  title=\"<b>Censo Escolar 2021: Análise da quantidade de Alunos / Professores no municipio de Parobé<b>\",\n",
    "  font_size= 14\n",
    ")\n",
    "\n",
    "grafic_parobe.update_traces(marker_color = \"brown\")\n",
    "\n",
    "#Aplicando borda nos circulos\n",
    "\n",
    "grafic_parobe.update_traces(marker_line_width = 1, marker_line_color= \"black\")\n",
    "\n",
    "\n",
    "# Alterando os títulos dos eixos x e y:\n",
    "grafic_parobe.update_layout(\n",
    "    xaxis_title= \"Quantidade de Matículas\",\n",
    "    yaxis_title= \"Quantidade de Docentes\",\n",
    "    font_size= 12\n",
    ")\n",
    "\n",
    "# Incluindo a fonte\n",
    "grafic_parobe.add_annotation(\n",
    "    text= \"Fonte: INEP\",\n",
    "    xref= \"paper\",\n",
    "    yref= \"paper\",\n",
    "    font_color= \"darkgrey\",\n",
    "    font_size= 12,\n",
    "    showarrow= False,\n",
    "    y= 1,\n",
    "    x= 0.99\n",
    ")\n"
   ]
  },
  {
   "cell_type": "markdown",
   "metadata": {},
   "source": [
    "#### Exportação"
   ]
  },
  {
   "cell_type": "code",
   "execution_count": 249,
   "metadata": {},
   "outputs": [],
   "source": [
    "grafic.write_html(\"Geral.html\")\n",
    "grafic_dois_irmaos.write_html(\"Dois_Irmãos.html\")\n",
    "grafic_np.write_html(\"Nova_Petrópolis.html\")\n",
    "grafic_parobe.write_html(\"Parobé.html\")"
   ]
  }
 ],
 "metadata": {
  "kernelspec": {
   "display_name": "Python 3.10.6 64-bit",
   "language": "python",
   "name": "python3"
  },
  "language_info": {
   "codemirror_mode": {
    "name": "ipython",
    "version": 3
   },
   "file_extension": ".py",
   "mimetype": "text/x-python",
   "name": "python",
   "nbconvert_exporter": "python",
   "pygments_lexer": "ipython3",
   "version": "3.10.6"
  },
  "orig_nbformat": 4,
  "vscode": {
   "interpreter": {
    "hash": "31f2aee4e71d21fbe5cf8b01ff0e069b9275f58929596ceb00d14d90e3e16cd6"
   }
  }
 },
 "nbformat": 4,
 "nbformat_minor": 2
}
