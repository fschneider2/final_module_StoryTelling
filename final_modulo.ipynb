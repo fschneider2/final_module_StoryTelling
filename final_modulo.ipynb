{
 "cells": [
  {
   "cell_type": "code",
   "execution_count": 11,
   "metadata": {},
   "outputs": [],
   "source": [
    "import pandas as pd\n",
    "import plotly.express as px\n",
    "import plotly.graph_objects as go\n",
    "from plotly.subplots import make_subplots"
   ]
  },
  {
   "cell_type": "code",
   "execution_count": 12,
   "metadata": {},
   "outputs": [
    {
     "name": "stderr",
     "output_type": "stream",
     "text": [
      "/tmp/ipykernel_15007/1655325398.py:1: DtypeWarning:\n",
      "\n",
      "Columns (27) have mixed types. Specify dtype option on import or set low_memory=False.\n",
      "\n"
     ]
    }
   ],
   "source": [
    "df_censo_escolar = pd.read_csv(\"microdados_ed_basica_2021.csv\", sep = \";\", encoding = \"iso-8859-1\")"
   ]
  },
  {
   "cell_type": "markdown",
   "metadata": {},
   "source": [
    "##### Filtrando os dados, sendo o ultimo filtro especifico para este gráfico."
   ]
  },
  {
   "cell_type": "code",
   "execution_count": 13,
   "metadata": {},
   "outputs": [],
   "source": [
    "df_censo_local_dif_in_RS = df_censo_escolar.query(\n",
    "    \"TP_LOCALIZACAO_DIFERENCIADA == 1\"\n",
    "    \"| TP_LOCALIZACAO_DIFERENCIADA == 2\" \n",
    "    \"| TP_LOCALIZACAO_DIFERENCIADA == 3\"     \n",
    ")\n",
    "\n",
    "df_censo_local_dif_in_RS = df_censo_local_dif_in_RS.query(\"SG_UF == 'RS'\")\n",
    "\n",
    "df_censo_local_dif_in_RS = df_censo_local_dif_in_RS[[\"TP_LOCALIZACAO_DIFERENCIADA\",\n",
    "    \"QT_MAT_BAS\",\"QT_DOC_BAS\",\"TP_LOCALIZACAO\",\"QT_TUR_BAS\",\"NO_ENTIDADE\", \"NO_MUNICIPIO\"]]"
   ]
  },
  {
   "cell_type": "markdown",
   "metadata": {},
   "source": [
    "##### Tratando os dados, fazendo a alteração do campo TO_LOCALIZACAO de float para STR e excluindo os dados NaN do campo QT_TUR_BAS\n"
   ]
  },
  {
   "cell_type": "code",
   "execution_count": 14,
   "metadata": {},
   "outputs": [],
   "source": [
    "# Poderia renomear as colunas, com a função rename, desta forma facilitaria a criação do gráfico, porém optei por fazer os update.\n",
    "\n",
    "df_censo_local_dif_in_RS[\"TP_LOCALIZACAO_DIFERENCIADA\"] = df_censo_local_dif_in_RS[\"TP_LOCALIZACAO_DIFERENCIADA\"].astype(str)\n",
    "\n",
    "df_censo_local_dif_in_RS = df_censo_local_dif_in_RS.dropna(subset=[\"QT_TUR_BAS\"])"
   ]
  },
  {
   "cell_type": "markdown",
   "metadata": {},
   "source": [
    "##### Criando o gráfico"
   ]
  },
  {
   "cell_type": "code",
   "execution_count": 15,
   "metadata": {},
   "outputs": [],
   "source": [
    "grafic = px.scatter(df_censo_local_dif_in_RS, \n",
    "    x= \"QT_MAT_BAS\", \n",
    "    y= \"QT_DOC_BAS\", \n",
    "    facet_col= \"TP_LOCALIZACAO\",\n",
    "    size= \"QT_TUR_BAS\",\n",
    "    hover_data=[\"NO_ENTIDADE\", \"NO_MUNICIPIO\"],\n",
    "    color= \"TP_LOCALIZACAO_DIFERENCIADA\",\n",
    "    color_discrete_map= {\"1.0\": \"brown\",\"2.0\": \"orange\", \"3.0\": \"turquoise\"},\n",
    "    size_max= 30,\n",
    "    template= \"ggplot2\",\n",
    "    height= 600,\n",
    "    width= 1200,\n",
    "    opacity= .75,\n",
    "    range_x=[0,500],\n",
    "    range_y=[0,200]\n",
    ")"
   ]
  },
  {
   "cell_type": "markdown",
   "metadata": {},
   "source": [
    "#### Alterações"
   ]
  },
  {
   "cell_type": "code",
   "execution_count": 17,
   "metadata": {},
   "outputs": [],
   "source": [
    "\n",
    "# Alterando titulo e tamanho da fonte do gráfico\n",
    "grafic.update_layout(\n",
    "  title=\"<b>Censo Escolar 2021: Análise de Localização Diferenciada(RS)<b>\",\n",
    "  font_size= 14\n",
    ")\n",
    "\n",
    "#Alterando o nome das legendas:\n",
    "grafic.for_each_trace(\n",
    "  lambda t: t.update(\n",
    "    name= {\"1.0\": \"Área de Assentamento\", \"2.0\": \"Terra Indígina\", \"3.0\": \"Áreas Remanescentes de Quilombo\"}[t.name],\n",
    "    legendgroup= {\"1.0\": \"Área de Assentamento\", \"2.0\": \"Terra Indígina\", \"3.0\": \"Áreas Remanescentes de Quilombo\"}[t.name])\n",
    ")\n",
    "\n",
    "#Aplicando borda nos circulos\n",
    "grafic.update_traces(marker_line_width = 1, marker_line_color= \"black\")\n",
    "\n",
    "# Alterando a posição, fonte e titulo da legenda:\n",
    "grafic.update_layout(\n",
    "  legend= dict(\n",
    "    title= \"Localização Diferenciada:\",\n",
    "    orientation= \"h\",\n",
    "    font_size= 12,\n",
    "    yanchor= \"top\",\n",
    "    xanchor= \"center\",\n",
    "    y= -0.2,\n",
    "    x= 0.3\n",
    "  )\n",
    ")\n",
    "\n",
    "# Alterando os títulos dos eixos x e y:\n",
    "grafic.update_layout(\n",
    "    xaxis_title= \"Quantidade de Matículas\",\n",
    "    xaxis2_title= \"Quantidade de Matículas\",\n",
    "    yaxis_title= \"Quantidade de Docentes\",\n",
    "    font_size= 11\n",
    ")\n",
    "\n",
    "# Incluindo a fonte\n",
    "grafic.add_annotation(\n",
    "    text= \"Fonte: INEP\",\n",
    "    xref= \"paper\",\n",
    "    yref= \"paper\",\n",
    "    font_color= \"darkgrey\",\n",
    "    font_size= 12,\n",
    "    showarrow= False,\n",
    "    y= 1.1,\n",
    "    x= 1,\n",
    "    \n",
    ")\n",
    "\n",
    "# Caso queira que a fonte fique dentro dos gráficos, utilize o campo comentado abaixo:\n",
    "\n",
    "# grafic.add_annotation(\n",
    "#  text= \"Fonte: INEP\",\n",
    "#  xref= \"paper\",\n",
    "#  yref= \"paper\",\n",
    "#  font_color= \"darkgrey\",\n",
    "#  font_size= 12,\n",
    "#  showarrow= False,\n",
    "#  y= 0.99,\n",
    "#  x= 0.991\n",
    "# )\n",
    "\n",
    "# grafic.add_annotation(\n",
    "#  text= \"Fonte: INEP\",\n",
    "#  xref= \"paper\",\n",
    "#  yref= \"paper\",\n",
    "#  font_color= \"darkgrey\",\n",
    "#  font_size= 12,\n",
    "#  showarrow= False,\n",
    "#  y= 0.99,\n",
    "#  x= 0.991\n",
    "# )\n",
    "\n",
    "# Renomenado os Gráficos\n",
    "grafic.layout.annotations[0].text= \"Rural\"\n",
    "grafic.layout.annotations[1].text= \"Urbano\""
   ]
  },
  {
   "cell_type": "markdown",
   "metadata": {},
   "source": [
    "##### Gráfico"
   ]
  },
  {
   "cell_type": "code",
   "execution_count": 18,
   "metadata": {},
   "outputs": [
    {
     "data": {
      "application/vnd.plotly.v1+json": {
       "config": {
        "plotlyServerURL": "https://plot.ly"
       },
       "data": [
        {
         "customdata": [
          [
           "ESC EST ENS FUN CONQUISTA DO JAGUARAO",
           "Aceguá"
          ],
          [
           "EMEF 11 DE SETEMBRO - 1ª CONQUISTA",
           "Arroio Grande"
          ],
          [
           "ESC EST ENS FUN TRES DE JULHO",
           "Boa Vista do Incra"
          ],
          [
           "ESC MUN ENS FUND PAULO FREIRE",
           "Bossoroca"
          ],
          [
           "EMEF SANTA IZABEL",
           "Candiota"
          ],
          [
           "ESC EST ENS MED 8 DE AGOSTO",
           "Candiota"
          ],
          [
           "EMEF SANTA FE",
           "Candiota"
          ],
          [
           "ESC EST ENS FUN VINTE DE AGOSTO",
           "Candiota"
          ],
          [
           "ESC EST ENS FUN OZIEL ALVES PEREIRA",
           "Canguçu"
          ],
          [
           "ESC EST ENS FUN ROSELI CORREA DA SILVA",
           "Capão do Cipó"
          ],
          [
           "ESC EST ENS FUN CHICO MENDES",
           "Capão do Cipó"
          ],
          [
           "E E IND ENS FUN ARANDUA",
           "Capivari do Sul"
          ],
          [
           "EMEF MARCOS DE BARROS FREIRE",
           "Cruz Alta"
          ],
          [
           "ESC MUN RURAL DE ENS FUN SEPE TIARAJU",
           "Dom Pedrito"
          ],
          [
           "EMEI FLOR DA TERRA",
           "Eldorado do Sul"
          ],
          [
           "EMEF ALMIRANTE TAMANDARE",
           "Eldorado do Sul"
          ],
          [
           "ESC EST ENS FUN PADRE JOSIMO",
           "Eldorado do Sul"
          ],
          [
           "ESC EST ENS MED ROSELI CORREIA DA SILVA",
           "Eldorado do Sul"
          ],
          [
           "ESC MUN ENS FUND SEPE TIARAJU",
           "Eldorado do Sul"
          ],
          [
           "ESC MUN EDUC BASICA SAO LUIZ",
           "Encruzilhada do Sul"
          ],
          [
           "EMEF CAROLINA ANALIA MORAIS SAIS",
           "Herval"
          ],
          [
           "ESC MUN ENS FUN LUIZ LIMA DE FARIA",
           "Herval"
          ],
          [
           "ESC EST ENS MED CORINTHO AVILA ESCOBAR",
           "Herval"
          ],
          [
           "EMEF ERNESTO CHE GUEVARA",
           "Herval"
          ],
          [
           "ESC EST ENS FUN CEL LUCIO ANNES DIAS",
           "Fortaleza dos Valos"
          ],
          [
           "EMEF COLONIA NOVA ESPERANCA",
           "Hulha Negra"
          ],
          [
           "ESC EST ENS MED QUINZE DE JUNHO",
           "Hulha Negra"
          ],
          [
           "ESC EST ENS FUN CHICO MENDES",
           "Hulha Negra"
          ],
          [
           "EMEF CONQUISTA DEZESSEIS DE OUTUBRO",
           "Jóia"
          ],
          [
           "ESC EST ENS FUN BOTAO DE OURO",
           "Jóia"
          ],
          [
           "ESC EST ENS MED JOCELI CORREA",
           "Jóia"
          ],
          [
           "ESC EST ENS FUN 15 DE MARCO",
           "Júlio de Castilhos"
          ],
          [
           "ESC EST ENS FUN PAULO FREIRE",
           "Manoel Viana"
          ],
          [
           "E E IND ENS FUN CACIQUE KOGJA JOAQUIM",
           "Mato Castelhano"
          ],
          [
           "ESCOLA MUNICIPAL DE ENSINO FUNDAMENTAL RUI BARBOSA",
           "Nova Santa Rita"
          ],
          [
           "ESC MUN ENS FUN TREZE DE MAIO",
           "Nova Santa Rita"
          ],
          [
           "ESC EST ENS MED NOVA SOCIEDADE",
           "Nova Santa Rita"
          ],
          [
           "ESC EST ENS FUN ANTONIO DE SOUZA NETO",
           "Palmeira das Missões"
          ],
          [
           "ESC MUN ENS FUN EUNIL ELIAS DOS SANTOS",
           "Pedras Altas"
          ],
          [
           "ESC MUN ENS FUN LAGO AZUL",
           "Pedras Altas"
          ],
          [
           "EMEF NEUZA BRIZOLA",
           "Pedras Altas"
          ],
          [
           "ESC EST ENS FUN SEBASTIAO ANTUNES DE ALMEIDA",
           "Pinhal da Serra"
          ],
          [
           "EMEF PAULO FREIRE",
           "Pinhal Grande"
          ],
          [
           "EMEF SAO JOAO BATISTA",
           "Pinheiro Machado"
          ],
          [
           "ESC EST ENS FUN PROFESSOR JOSE ZEFERINO DA SILVEIRA",
           "Piratini"
          ],
          [
           "ESC EST ENS FUN SEPE TIARAJU",
           "Piratini"
          ],
          [
           "ESC MUN ENS FUN MARIO QUINTANA",
           "Piratini"
          ],
          [
           "E E IND ENS FUN FAG NOR",
           "Pontão"
          ],
          [
           "EMEI E EF OLAVO BILAC",
           "Pontão"
          ],
          [
           "ESC EST ENS FUN 29 DE OUTUBRO",
           "Pontão"
          ],
          [
           "ESCOLA MUNICIPAL DE ENSINO FUNDAMENTAL MEM DE SA",
           "Ronda Alta"
          ],
          [
           "ESC EST ENS FUN ISABEL DE ORLEANS",
           "Ronda Alta"
          ],
          [
           "EMEF JOAO GONCALVES VIEIRA",
           "Salto do Jacuí"
          ],
          [
           "EMEF UNIAO E VITORIA",
           "Salto do Jacuí"
          ],
          [
           "ESC MUN ENS FUND PAULO FREIRE",
           "Sant'Ana do Livramento"
          ],
          [
           "EMEF ROSELI NUNES",
           "Sant'Ana do Livramento"
          ],
          [
           "ESC EST ENS FUN DE COXILHA DE SANTO IGNACIO",
           "Sant'Ana do Livramento"
          ],
          [
           "ESC EST ENS MED ANTONIO CONSELHEIRO",
           "Sant'Ana do Livramento"
          ],
          [
           "ESC EST ENS FUN FRANCO BAGLIONI",
           "São Borja"
          ],
          [
           "ESC EST ENS FUN SEPE TIARAJU",
           "Sarandi"
          ],
          [
           "EMEF SERAFIM CORREA DE BARROS NETO",
           "Tupanciretã"
          ],
          [
           "EMEF MARIA ALEYDAH DE MENDONCA MARQUES",
           "Tupanciretã"
          ],
          [
           "EMEF LEONEL DE MOURA BRIZOLA",
           "Tupanciretã"
          ],
          [
           "ESC EST ENS FUN CHICO MENDES",
           "Vacaria"
          ],
          [
           "EMEF NOSSA SENHORA DE FATIMA",
           "Viamão"
          ]
         ],
         "hovertemplate": "TP_LOCALIZACAO_DIFERENCIADA=1.0<br>TP_LOCALIZACAO=2<br>QT_MAT_BAS=%{x}<br>QT_DOC_BAS=%{y}<br>QT_TUR_BAS=%{marker.size}<br>NO_ENTIDADE=%{customdata[0]}<br>NO_MUNICIPIO=%{customdata[1]}<extra></extra>",
         "legendgroup": "Área de Assentamento",
         "marker": {
          "color": "brown",
          "line": {
           "color": "black",
           "width": 1
          },
          "opacity": 0.75,
          "size": [
           4,
           7,
           4,
           2,
           10,
           11,
           6,
           3,
           7,
           6,
           5,
           5,
           4,
           4,
           6,
           4,
           1,
           11,
           4,
           11,
           5,
           6,
           9,
           8,
           4,
           13,
           10,
           5,
           8,
           4,
           13,
           4,
           9,
           3,
           7,
           4,
           16,
           2,
           11,
           11,
           10,
           2,
           3,
           10,
           1,
           1,
           4,
           2,
           8,
           6,
           12,
           3,
           8,
           2,
           9,
           11,
           3,
           12,
           4,
           3,
           11,
           10,
           11,
           3,
           11
          ],
          "sizemode": "area",
          "sizeref": 0.028888888888888888,
          "symbol": "circle"
         },
         "mode": "markers",
         "name": "Área de Assentamento",
         "orientation": "v",
         "showlegend": true,
         "type": "scatter",
         "x": [
          32,
          64,
          31,
          12,
          150,
          270,
          73,
          35,
          62,
          62,
          32,
          6,
          29,
          23,
          45,
          42,
          12,
          242,
          38,
          132,
          51,
          39,
          98,
          58,
          48,
          105,
          158,
          64,
          67,
          38,
          201,
          22,
          83,
          29,
          78,
          87,
          350,
          25,
          31,
          81,
          36,
          12,
          21,
          128,
          14,
          7,
          30,
          10,
          69,
          88,
          179,
          21,
          105,
          14,
          76,
          85,
          35,
          153,
          52,
          33,
          74,
          53,
          65,
          21,
          277
         ],
         "xaxis": "x",
         "y": [
          6,
          47,
          14,
          9,
          7,
          17,
          6,
          5,
          6,
          10,
          13,
          27,
          9,
          8,
          13,
          39,
          45,
          16,
          24,
          5,
          12,
          13,
          34,
          12,
          54,
          5,
          11,
          5,
          11,
          12,
          6,
          3,
          57,
          3,
          7,
          30,
          14,
          75,
          9,
          3,
          2,
          1,
          4,
          35,
          15,
          47,
          15,
          3,
          5,
          16,
          12,
          8,
          27,
          18,
          4,
          31,
          5,
          6,
          51,
          11,
          38,
          34,
          6,
          5,
          10
         ],
         "yaxis": "y"
        },
        {
         "customdata": [
          [
           "E E IND ENS FUN MANOEL INACIO",
           "Água Santa"
          ],
          [
           "E E IND ENS FUN ALMERAO DOMINGUES NUNES",
           "Água Santa"
          ],
          [
           "E E IND ENS FUN TEKOA NHUU POTY",
           "Barra do Ribeiro"
          ],
          [
           "ESC EST IND EF TEKOA GUAPOY",
           "Barra do Ribeiro"
          ],
          [
           "E E IND ENS FUN YVY POTY",
           "Barra do Ribeiro"
          ],
          [
           "E E IND ENS FUN TEKOA PORA",
           "Barra do Ribeiro"
          ],
          [
           "EMIEI GIR SI",
           "Benjamin Constant do Sul"
          ],
          [
           "ESC EST IND EM TOLDO COROADO",
           "Benjamin Constant do Sul"
          ],
          [
           "E E IND ENS FUN TOLDO GUARANI",
           "Benjamin Constant do Sul"
          ],
          [
           "E E IND ENS FUN TAPE MIRI",
           "Cachoeira do Sul"
          ],
          [
           "E E IND ENS FUN MARIA JASINTA FRANCO",
           "Cacique Doble"
          ],
          [
           "E E IND ENS FUN FAUSTINO FERREIRA DOBLE",
           "Cacique Doble"
          ],
          [
           "E E IND ENS FUN ESTERLITO MALAQUIAS",
           "Cacique Doble"
          ],
          [
           "EMIEI GIR SI MY SER - INFANCIA FELIZ",
           "Cacique Doble"
          ],
          [
           "E E IND ENS FUN YAKA NHENDU",
           "Caraá"
          ],
          [
           "E E IND ENS FUN TEKOA GUAJAYVI",
           "Charqueadas"
          ],
          [
           "ESC EST IND EM FAG MAG",
           "Charrua"
          ],
          [
           "E E IND ENS FUN JOAO SORA VERGUEIRO",
           "Constantina"
          ],
          [
           "E E IND ENS FUN TANHVE KREGSO",
           "Constantina"
          ],
          [
           "E E IND ENS FUN TAVAI",
           "Cristal"
          ],
          [
           "ESCOLA MUNICIPAL INDIGENA DE ENSINO FUNDAMENTAL PAVANH HA",
           "Engenho Velho"
          ],
          [
           "E E IND ENS FUN VICENTE KARAI OKENDA",
           "Erebango"
          ],
          [
           "ESC EST IND EM KANHRANRAN FA LUIS OLIVEIRA",
           "Erebango"
          ],
          [
           "ESC EST IND EM SEPE TIARAJU",
           "Erval Seco"
          ],
          [
           "E E IND ENS FUN MANOEL SOARES",
           "Estrela"
          ],
          [
           "E E IND ENS FUN KARAI TATAENDY VERA CLAUDIO ACOSTA",
           "Estrela Velha"
          ],
          [
           "E E IND ENS FUN NIVO",
           "Farroupilha"
          ],
          [
           "E E IND ENS FUN MARIA KANDOIA KESO",
           "Faxinalzinho"
          ],
          [
           "E E IND ENS FUN HELDER TENH FY",
           "Gentil"
          ],
          [
           "E E IND ENS FUN PERO GA",
           "Gramado dos Loureiros"
          ],
          [
           "E E IND ENS FUN ARASATY",
           "Guaíba"
          ],
          [
           "E E IND ENS FUN MONTE CASEROS",
           "Ibiraiaras"
          ],
          [
           "ESC EST IND EM NAN GA",
           "Iraí"
          ],
          [
           "ESC EST IND EF GOJ VESO",
           "Iraí"
          ],
          [
           "EMIEI NAN GA",
           "Iraí"
          ],
          [
           "E E IND ENS FUN ANTONIO RUSI",
           "Lajeado do Bugre"
          ],
          [
           "ESC EST IND EB FRANCISCO KAJERO",
           "Liberato Salzano"
          ],
          [
           "E E IND ENS FUN KURITY",
           "Maquiné"
          ],
          [
           "ESCOLA MUNICIPAL INDIGENA DE ENSINO FUNDAMENTAL TEKO JEAPO",
           "Maquiné"
          ],
          [
           "E E IND ENS FUN CACIQUE SEPE TIARAJU",
           "Mariana Pimentel"
          ],
          [
           "E E IND ENS FUN NEN MAG",
           "Mato Castelhano"
          ],
          [
           "E E IND ENS FUN RETANH LEOPOLDINO",
           "Muliterno"
          ],
          [
           "ESC EST IND EM JOAQUIM GATEN CASSEMIRO",
           "Nonoai"
          ],
          [
           "E E IND ENS FUN CACIQUE NONOAI",
           "Nonoai"
          ],
          [
           "E E IND ENS FUN KUARAY RESE",
           "Osório"
          ],
          [
           "EEIKEM CACIQUE SY GRE",
           "Planalto"
          ],
          [
           "E E IND ENS FUN GUARANI M BARAKA MIRI",
           "Planalto"
          ],
          [
           "E E IND ENS FUN KAINGANG JAG MAG",
           "Planalto"
          ],
          [
           "E E IND ENS FUN KAINGANG GOJ ROR",
           "Planalto"
          ],
          [
           "E E IND ENS FUN GUARANI JOAQUIM MARIANO",
           "Planalto"
          ],
          [
           "ESC EST IND EM ANTONIO KASIN MIG",
           "Redentora"
          ],
          [
           "E E IND ENS FUN DAVI RYGJO FERNANDES",
           "Redentora"
          ],
          [
           "E E IND ENS FUN CACIQUE ANASTACIO FONGUE",
           "Redentora"
          ],
          [
           "E E IND ENS FUN ROSALINO CLAUDINO",
           "Redentora"
          ],
          [
           "E E IND ENS FUN TOLDO CAMPINAS",
           "Redentora"
          ],
          [
           "E E IND ENS FUN HERCULANO JOAQUIM",
           "Redentora"
          ],
          [
           "E E IND ENS FUN KATIU GRIA",
           "Redentora"
          ],
          [
           "E E IND ENS FUN CACIQUE NATALICIO",
           "Redentora"
          ],
          [
           "E E IND ENS FUN CORONEL GERALDINO MINEIRO",
           "Redentora"
          ],
          [
           "EMIEF SERIES INICIAIS FOTY",
           "Rio dos Índios"
          ],
          [
           "ESC EST IND EF PARA MIRIM",
           "Rio Grande"
          ],
          [
           "ESC EST IND EM FAG KAVA",
           "Ronda Alta"
          ],
          [
           "E E IND ENS FUN LUIZ KONHKO",
           "Ronda Alta"
          ],
          [
           "E E IND ENS FUN ALMERINDA DE MELLO",
           "Salto do Jacuí"
          ],
          [
           "E E IND ENS FUN GUARANI",
           "Salto do Jacuí"
          ],
          [
           "E E IND ENS FUN AUGUSTO OPE DA SILVA",
           "Santa Maria"
          ],
          [
           "E E IND ENS FUN YVYRA IJA TENONDE VERA MIRI",
           "Santa Maria"
          ],
          [
           "E E IND ENS FUN IGINEO ROMEU KO EJU",
           "São Miguel das Missões"
          ],
          [
           "INST EST ED IND ANGELO MANHKA MIGUEL",
           "São Valério do Sul"
          ],
          [
           "E E IND ENS FUN MARECHAL CANDIDO RONDON",
           "São Valério do Sul"
          ],
          [
           "E E IND ENS FUN PO MAG",
           "Tabaí"
          ],
          [
           "E E IND ENS FUN BENTO PI GOG",
           "Tenente Portela"
          ],
          [
           "E E IND ENS FUN MUKEJ",
           "Tenente Portela"
          ],
          [
           "E E IND ENS FUN GOMERCINDO JETE TENH RIBEIRO",
           "Tenente Portela"
          ],
          [
           "EMIEF FAG-ROR",
           "Três Palmeiras"
          ],
          [
           "E E IND ENS FUN NHAMANDU NHEMOPUA",
           "Viamão"
          ],
          [
           "ESC EST IND EM KARAI NHE E KATU",
           "Viamão"
          ],
          [
           "ESC EST IND EM KARAI ARANDU",
           "Viamão"
          ],
          [
           "E E IND ENS FUN RIO DOS INDIOS",
           "Vicente Dutra"
          ]
         ],
         "hovertemplate": "TP_LOCALIZACAO_DIFERENCIADA=2.0<br>TP_LOCALIZACAO=2<br>QT_MAT_BAS=%{x}<br>QT_DOC_BAS=%{y}<br>QT_TUR_BAS=%{marker.size}<br>NO_ENTIDADE=%{customdata[0]}<br>NO_MUNICIPIO=%{customdata[1]}<extra></extra>",
         "legendgroup": "Terra Indígina",
         "marker": {
          "color": "orange",
          "line": {
           "color": "black",
           "width": 1
          },
          "opacity": 0.75,
          "size": [
           7,
           5,
           4,
           4,
           2,
           3,
           7,
           15,
           1,
           1,
           2,
           9,
           2,
           3,
           1,
           3,
           20,
           2,
           5,
           1,
           3,
           1,
           8,
           6,
           4,
           1,
           2,
           4,
           5,
           9,
           2,
           7,
           15,
           5,
           4,
           2,
           10,
           1,
           1,
           3,
           3,
           6,
           12,
           1,
           3,
           11,
           2,
           3,
           7,
           2,
           21,
           13,
           10,
           10,
           9,
           3,
           4,
           2,
           7,
           5,
           2,
           13,
           3,
           7,
           6,
           5,
           7,
           6,
           11,
           18,
           1,
           11,
           11,
           15,
           10,
           7,
           4,
           9,
           7
          ],
          "sizemode": "area",
          "sizeref": 0.028888888888888888,
          "symbol": "circle"
         },
         "mode": "markers",
         "name": "Terra Indígina",
         "orientation": "v",
         "showlegend": true,
         "type": "scatter",
         "x": [
          112,
          45,
          16,
          34,
          33,
          29,
          85,
          240,
          2,
          8,
          12,
          141,
          25,
          46,
          3,
          34,
          337,
          21,
          76,
          2,
          49,
          15,
          56,
          49,
          49,
          6,
          11,
          57,
          35,
          149,
          18,
          115,
          254,
          36,
          74,
          30,
          112,
          3,
          8,
          34,
          20,
          79,
          174,
          8,
          15,
          184,
          9,
          6,
          82,
          22,
          407,
          237,
          129,
          141,
          130,
          31,
          56,
          19,
          85,
          40,
          10,
          180,
          30,
          50,
          61,
          22,
          57,
          65,
          149,
          334,
          7,
          137,
          167,
          198,
          111,
          48,
          35,
          54,
          86
         ],
         "xaxis": "x",
         "y": [
          4,
          16,
          2,
          10,
          18,
          1,
          20,
          17,
          14,
          20,
          16,
          13,
          2,
          12,
          6,
          26,
          20,
          33,
          14,
          16,
          8,
          2,
          3,
          5,
          2,
          3,
          3,
          8,
          4,
          2,
          1,
          9,
          3,
          26,
          19,
          16,
          9,
          18,
          6,
          47,
          9,
          22,
          41,
          15,
          7,
          20,
          3,
          21,
          4,
          2,
          18,
          2,
          18,
          16,
          37,
          14,
          3,
          6,
          14,
          21,
          5,
          13,
          6,
          2,
          30,
          2,
          8,
          10,
          8,
          13,
          5,
          5,
          11,
          5,
          4,
          5,
          3,
          5,
          11
         ],
         "yaxis": "y"
        },
        {
         "customdata": [
          [
           "E E IND ENS FUN KAME MRE KANHRUKRE",
           "Carazinho"
          ],
          [
           "E E IND ENS FUN GATEN",
           "Lajeado"
          ],
          [
           "E E IND ENS FUN TUPE PAN",
           "Porto Alegre"
          ],
          [
           "E E IND ENS FUN PINDO POTY",
           "Porto Alegre"
          ],
          [
           "E E IND ENS FUN KA AGUY MIRI",
           "Porto Alegre"
          ],
          [
           "ESC EST IND EM ANHETENGUA",
           "Porto Alegre"
          ],
          [
           "E E IND ENS FUN FAG NHIN",
           "Porto Alegre"
          ],
          [
           "E E IND ENS FUN NA COMUNIDADE INDIGENA KAINGANG POR FI",
           "São Leopoldo"
          ]
         ],
         "hovertemplate": "TP_LOCALIZACAO_DIFERENCIADA=2.0<br>TP_LOCALIZACAO=1<br>QT_MAT_BAS=%{x}<br>QT_DOC_BAS=%{y}<br>QT_TUR_BAS=%{marker.size}<br>NO_ENTIDADE=%{customdata[0]}<br>NO_MUNICIPIO=%{customdata[1]}<extra></extra>",
         "legendgroup": "Terra Indígina",
         "marker": {
          "color": "orange",
          "line": {
           "color": "black",
           "width": 1
          },
          "opacity": 0.75,
          "size": [
           1,
           3,
           2,
           3,
           2,
           13,
           4,
           2
          ],
          "sizemode": "area",
          "sizeref": 0.028888888888888888,
          "symbol": "circle"
         },
         "mode": "markers",
         "name": "Terra Indígina",
         "orientation": "v",
         "showlegend": false,
         "type": "scatter",
         "x": [
          11,
          17,
          20,
          9,
          4,
          58,
          38,
          13
         ],
         "xaxis": "x2",
         "y": [
          2,
          23,
          11,
          15,
          20,
          33,
          11,
          3
         ],
         "yaxis": "y2"
        },
        {
         "customdata": [
          [
           "EMEB JOAO CADORE",
           "Alegrete"
          ],
          [
           "EMREF SIMOES PIRES",
           "Bagé"
          ],
          [
           "EMEF HEITOR SOARES RIBEIRO",
           "Canguçu"
          ],
          [
           "EMEF CARLOS MOREIRA",
           "Canguçu"
          ],
          [
           "EMEF FRANCISCO MEIRELES",
           "Canguçu"
          ],
          [
           "EMEF GONCALVES DIAS",
           "Canguçu"
          ],
          [
           "EMEF GUIDO TIMM VENZKE",
           "Canguçu"
          ],
          [
           "EMEF JOAQUIM NABUCO",
           "Canguçu"
          ],
          [
           "EMEF JOSE MARIA DUTRA",
           "Canguçu"
          ],
          [
           "EMEF JULIO DE CASTILHOS",
           "Canguçu"
          ],
          [
           "EMEF MARECHAL FLORIANO",
           "Canguçu"
          ],
          [
           "EMEF OSCAR FONSECA DA SILVA",
           "Canguçu"
          ],
          [
           "EMEF ALBERTO BERGMANN FILHO",
           "Canguçu"
          ],
          [
           "EMEF SANTA MARIA",
           "Canguçu"
          ],
          [
           "EMEF SANTO ANGELO",
           "Canguçu"
          ],
          [
           "EMEF SAO JOAO BATISTA DE LA SALLE",
           "Canguçu"
          ],
          [
           "EMEF SAO LUIZ GONZAGA",
           "Canguçu"
          ],
          [
           "EMEF JOSE LUIZ DA SILVA",
           "Canguçu"
          ],
          [
           "EMEF VINTE DE SETEMBRO",
           "Canguçu"
          ],
          [
           "EMEF CRISTO REI",
           "Canguçu"
          ],
          [
           "EMEF PRES CASTELO BRANCO",
           "Canguçu"
          ],
          [
           "ESCOLA MUNICIPAL DE ENSINO FUNDAMENTAL ESPIRITO SANTO",
           "Colorado"
          ],
          [
           "EMEF ACACIO ANTONIO VIEIRA",
           "Formigueiro"
          ],
          [
           "EMEF SAO JOAO BATISTA",
           "Formigueiro"
          ],
          [
           "EMEF MARIA JOSE DE FREITAS",
           "General Câmara"
          ],
          [
           "EMEF MARIANTE SOARES PACHECO",
           "Gravataí"
          ],
          [
           "EMEF SANTA CRUZ",
           "Gravataí"
          ],
          [
           "EMEF TOMAS ANTONIO GONZAGA",
           "Jacuizinho"
          ],
          [
           "ESC MUN ENS FUN OTAVIANO PAIXAO COELHO",
           "Lagoão"
          ],
          [
           "EMEF ORIVALDO BASSANI",
           "Maquiné"
          ],
          [
           "EMEF FLORIANO PEIXOTO",
           "Maquiné"
          ],
          [
           "EMEF ZEFERINO BRASIL",
           "Maquiné"
          ],
          [
           "EEQENSMED SANTA TERESINHA",
           "Maquiné"
          ],
          [
           "ESCOLA MUNICIPAL DE EDUCACAO INFANTIL RAIO DE SOL",
           "Maquiné"
          ],
          [
           "EMF QUITERIA PEREIRA DO NASCIMENTO",
           "Mostardas"
          ],
          [
           "EMEF SANTO INACIO",
           "Nova Palma"
          ],
          [
           "EMEF OSVALDO BASTOS",
           "Osório"
          ],
          [
           "EMEF WALDEMAR DENZER",
           "Pelotas"
          ],
          [
           "EMEF NESTOR ELIZEU CROCHEMORE",
           "Pelotas"
          ],
          [
           "EMEF ERASMO BRAGA",
           "Pelotas"
          ],
          [
           "EMEF JOAO DA SILVA SILVEIRA",
           "Pelotas"
          ],
          [
           "EMEF WILSON MULLER",
           "Pelotas"
          ],
          [
           "EMEF LIMA E SILVA",
           "Pelotas"
          ],
          [
           "ESC EST ENS MED DEPUTADO ADAO PRETTO",
           "Piratini"
          ],
          [
           "ESC MUN ENS FUND DR VIEIRA DA CUNHA",
           "Piratini"
          ],
          [
           "ESC MUN ENS FUN GONCALVES DIAS",
           "Portão"
          ],
          [
           "EMEF MANUEL ALBINO CARVALHO",
           "Restinga Sêca"
          ],
          [
           "EMEF CARMELINO CORREA DE OLIVEIRA",
           "Santana da Boa Vista"
          ],
          [
           "ESC MUN ENS FUN CENTRO DE DEMONSTRACAO",
           "São José do Norte"
          ],
          [
           "EMEF GERMANO HUBNER",
           "São Lourenço do Sul"
          ],
          [
           "EMEF SADY HAMMES",
           "São Lourenço do Sul"
          ],
          [
           "EMEF RODOLPHO KRUGER",
           "São Lourenço do Sul"
          ],
          [
           "EMEF LUIZ GONZAGA CAPAVERDE",
           "Três Forquilhas"
          ],
          [
           "ESC MUN ENS FUN PROFESSORA ADELIA FIGUEIREDO DE MENEZES",
           "Vale Verde"
          ]
         ],
         "hovertemplate": "TP_LOCALIZACAO_DIFERENCIADA=3.0<br>TP_LOCALIZACAO=2<br>QT_MAT_BAS=%{x}<br>QT_DOC_BAS=%{y}<br>QT_TUR_BAS=%{marker.size}<br>NO_ENTIDADE=%{customdata[0]}<br>NO_MUNICIPIO=%{customdata[1]}<extra></extra>",
         "legendgroup": "Áreas Remanescentes de Quilombo",
         "marker": {
          "color": "turquoise",
          "line": {
           "color": "black",
           "width": 1
          },
          "opacity": 0.75,
          "size": [
           11,
           8,
           13,
           10,
           12,
           10,
           11,
           10,
           9,
           10,
           10,
           11,
           10,
           12,
           9,
           9,
           11,
           9,
           15,
           10,
           10,
           10,
           7,
           7,
           5,
           8,
           6,
           3,
           15,
           3,
           10,
           3,
           8,
           6,
           2,
           4,
           10,
           11,
           15,
           4,
           26,
           10,
           2,
           6,
           12,
           7,
           7,
           5,
           7,
           13,
           15,
           13,
           11,
           8
          ],
          "sizemode": "area",
          "sizeref": 0.028888888888888888,
          "symbol": "circle"
         },
         "mode": "markers",
         "name": "Áreas Remanescentes de Quilombo",
         "orientation": "v",
         "showlegend": true,
         "type": "scatter",
         "x": [
          126,
          65,
          235,
          131,
          116,
          116,
          187,
          94,
          70,
          57,
          131,
          142,
          114,
          206,
          101,
          69,
          120,
          104,
          169,
          138,
          120,
          106,
          58,
          65,
          44,
          86,
          90,
          21,
          206,
          53,
          123,
          25,
          128,
          55,
          23,
          25,
          190,
          157,
          219,
          32,
          333,
          111,
          16,
          126,
          186,
          171,
          100,
          19,
          92,
          248,
          254,
          218,
          87,
          90
         ],
         "xaxis": "x",
         "y": [
          11,
          13,
          18,
          25,
          18,
          34,
          16,
          17,
          17,
          6,
          14,
          8,
          17,
          17,
          15,
          48,
          15,
          17,
          17,
          15,
          37,
          6,
          33,
          20,
          23,
          1,
          14,
          2,
          21,
          15,
          24,
          19,
          24,
          19,
          25,
          11,
          18,
          30,
          57,
          36,
          58,
          30,
          16,
          2,
          5,
          25,
          9,
          16,
          4,
          34,
          25,
          28,
          4,
          38
         ],
         "yaxis": "y"
        },
        {
         "customdata": [
          [
           "EMEF PRES GETULIO VARGAS",
           "Canguçu"
          ],
          [
           "ESC EST ENS FUN IVANYR EUCLINIA MARCHIORO",
           "Caxias do Sul"
          ],
          [
           "ESCOLA MUNICIPAL DE ENSINO FUNDAMENTAL PRINCESA ISABEL",
           "Colorado"
          ],
          [
           "EMEI PEQUENO APRENDIZ",
           "Colorado"
          ],
          [
           "EMEF SANTA CECILIA",
           "Gravataí"
          ],
          [
           "ESC MUN ED INFAN CHAPEUZINHO VERMELHO",
           "Portão"
          ],
          [
           "ESC EST ENS FUN BAHIA",
           "Porto Alegre"
          ]
         ],
         "hovertemplate": "TP_LOCALIZACAO_DIFERENCIADA=3.0<br>TP_LOCALIZACAO=1<br>QT_MAT_BAS=%{x}<br>QT_DOC_BAS=%{y}<br>QT_TUR_BAS=%{marker.size}<br>NO_ENTIDADE=%{customdata[0]}<br>NO_MUNICIPIO=%{customdata[1]}<extra></extra>",
         "legendgroup": "Áreas Remanescentes de Quilombo",
         "marker": {
          "color": "turquoise",
          "line": {
           "color": "black",
           "width": 1
          },
          "opacity": 0.75,
          "size": [
           19,
           9,
           4,
           4,
           15,
           2,
           10
          ],
          "sizemode": "area",
          "sizeref": 0.028888888888888888,
          "symbol": "circle"
         },
         "mode": "markers",
         "name": "Áreas Remanescentes de Quilombo",
         "orientation": "v",
         "showlegend": false,
         "type": "scatter",
         "x": [
          285,
          173,
          36,
          36,
          299,
          31,
          226
         ],
         "xaxis": "x2",
         "y": [
          12,
          5,
          22,
          5,
          7,
          10,
          157
         ],
         "yaxis": "y2"
        }
       ],
       "layout": {
        "annotations": [
         {
          "showarrow": false,
          "text": "Rural",
          "x": 0.245,
          "xanchor": "center",
          "xref": "paper",
          "y": 1,
          "yanchor": "bottom",
          "yref": "paper"
         },
         {
          "showarrow": false,
          "text": "Urbano",
          "x": 0.755,
          "xanchor": "center",
          "xref": "paper",
          "y": 1,
          "yanchor": "bottom",
          "yref": "paper"
         },
         {
          "font": {
           "color": "darkgrey",
           "size": 12
          },
          "showarrow": false,
          "text": "Fonte: INEP",
          "x": 1,
          "xref": "paper",
          "y": 1.1,
          "yref": "paper"
         }
        ],
        "font": {
         "size": 11
        },
        "height": 600,
        "legend": {
         "font": {
          "size": 12
         },
         "itemsizing": "constant",
         "orientation": "h",
         "title": {
          "text": "Localização Diferenciada:"
         },
         "tracegroupgap": 0,
         "x": 0.3,
         "xanchor": "center",
         "y": -0.2,
         "yanchor": "top"
        },
        "margin": {
         "t": 60
        },
        "template": {
         "data": {
          "bar": [
           {
            "error_x": {
             "color": "rgb(51,51,51)"
            },
            "error_y": {
             "color": "rgb(51,51,51)"
            },
            "marker": {
             "line": {
              "color": "rgb(237,237,237)",
              "width": 0.5
             },
             "pattern": {
              "fillmode": "overlay",
              "size": 10,
              "solidity": 0.2
             }
            },
            "type": "bar"
           }
          ],
          "barpolar": [
           {
            "marker": {
             "line": {
              "color": "rgb(237,237,237)",
              "width": 0.5
             },
             "pattern": {
              "fillmode": "overlay",
              "size": 10,
              "solidity": 0.2
             }
            },
            "type": "barpolar"
           }
          ],
          "carpet": [
           {
            "aaxis": {
             "endlinecolor": "rgb(51,51,51)",
             "gridcolor": "white",
             "linecolor": "white",
             "minorgridcolor": "white",
             "startlinecolor": "rgb(51,51,51)"
            },
            "baxis": {
             "endlinecolor": "rgb(51,51,51)",
             "gridcolor": "white",
             "linecolor": "white",
             "minorgridcolor": "white",
             "startlinecolor": "rgb(51,51,51)"
            },
            "type": "carpet"
           }
          ],
          "choropleth": [
           {
            "colorbar": {
             "outlinewidth": 0,
             "tickcolor": "rgb(237,237,237)",
             "ticklen": 6,
             "ticks": "inside"
            },
            "type": "choropleth"
           }
          ],
          "contour": [
           {
            "colorbar": {
             "outlinewidth": 0,
             "tickcolor": "rgb(237,237,237)",
             "ticklen": 6,
             "ticks": "inside"
            },
            "colorscale": [
             [
              0,
              "rgb(20,44,66)"
             ],
             [
              1,
              "rgb(90,179,244)"
             ]
            ],
            "type": "contour"
           }
          ],
          "contourcarpet": [
           {
            "colorbar": {
             "outlinewidth": 0,
             "tickcolor": "rgb(237,237,237)",
             "ticklen": 6,
             "ticks": "inside"
            },
            "type": "contourcarpet"
           }
          ],
          "heatmap": [
           {
            "colorbar": {
             "outlinewidth": 0,
             "tickcolor": "rgb(237,237,237)",
             "ticklen": 6,
             "ticks": "inside"
            },
            "colorscale": [
             [
              0,
              "rgb(20,44,66)"
             ],
             [
              1,
              "rgb(90,179,244)"
             ]
            ],
            "type": "heatmap"
           }
          ],
          "heatmapgl": [
           {
            "colorbar": {
             "outlinewidth": 0,
             "tickcolor": "rgb(237,237,237)",
             "ticklen": 6,
             "ticks": "inside"
            },
            "colorscale": [
             [
              0,
              "rgb(20,44,66)"
             ],
             [
              1,
              "rgb(90,179,244)"
             ]
            ],
            "type": "heatmapgl"
           }
          ],
          "histogram": [
           {
            "marker": {
             "pattern": {
              "fillmode": "overlay",
              "size": 10,
              "solidity": 0.2
             }
            },
            "type": "histogram"
           }
          ],
          "histogram2d": [
           {
            "colorbar": {
             "outlinewidth": 0,
             "tickcolor": "rgb(237,237,237)",
             "ticklen": 6,
             "ticks": "inside"
            },
            "colorscale": [
             [
              0,
              "rgb(20,44,66)"
             ],
             [
              1,
              "rgb(90,179,244)"
             ]
            ],
            "type": "histogram2d"
           }
          ],
          "histogram2dcontour": [
           {
            "colorbar": {
             "outlinewidth": 0,
             "tickcolor": "rgb(237,237,237)",
             "ticklen": 6,
             "ticks": "inside"
            },
            "colorscale": [
             [
              0,
              "rgb(20,44,66)"
             ],
             [
              1,
              "rgb(90,179,244)"
             ]
            ],
            "type": "histogram2dcontour"
           }
          ],
          "mesh3d": [
           {
            "colorbar": {
             "outlinewidth": 0,
             "tickcolor": "rgb(237,237,237)",
             "ticklen": 6,
             "ticks": "inside"
            },
            "type": "mesh3d"
           }
          ],
          "parcoords": [
           {
            "line": {
             "colorbar": {
              "outlinewidth": 0,
              "tickcolor": "rgb(237,237,237)",
              "ticklen": 6,
              "ticks": "inside"
             }
            },
            "type": "parcoords"
           }
          ],
          "pie": [
           {
            "automargin": true,
            "type": "pie"
           }
          ],
          "scatter": [
           {
            "fillpattern": {
             "fillmode": "overlay",
             "size": 10,
             "solidity": 0.2
            },
            "type": "scatter"
           }
          ],
          "scatter3d": [
           {
            "line": {
             "colorbar": {
              "outlinewidth": 0,
              "tickcolor": "rgb(237,237,237)",
              "ticklen": 6,
              "ticks": "inside"
             }
            },
            "marker": {
             "colorbar": {
              "outlinewidth": 0,
              "tickcolor": "rgb(237,237,237)",
              "ticklen": 6,
              "ticks": "inside"
             }
            },
            "type": "scatter3d"
           }
          ],
          "scattercarpet": [
           {
            "marker": {
             "colorbar": {
              "outlinewidth": 0,
              "tickcolor": "rgb(237,237,237)",
              "ticklen": 6,
              "ticks": "inside"
             }
            },
            "type": "scattercarpet"
           }
          ],
          "scattergeo": [
           {
            "marker": {
             "colorbar": {
              "outlinewidth": 0,
              "tickcolor": "rgb(237,237,237)",
              "ticklen": 6,
              "ticks": "inside"
             }
            },
            "type": "scattergeo"
           }
          ],
          "scattergl": [
           {
            "marker": {
             "colorbar": {
              "outlinewidth": 0,
              "tickcolor": "rgb(237,237,237)",
              "ticklen": 6,
              "ticks": "inside"
             }
            },
            "type": "scattergl"
           }
          ],
          "scattermapbox": [
           {
            "marker": {
             "colorbar": {
              "outlinewidth": 0,
              "tickcolor": "rgb(237,237,237)",
              "ticklen": 6,
              "ticks": "inside"
             }
            },
            "type": "scattermapbox"
           }
          ],
          "scatterpolar": [
           {
            "marker": {
             "colorbar": {
              "outlinewidth": 0,
              "tickcolor": "rgb(237,237,237)",
              "ticklen": 6,
              "ticks": "inside"
             }
            },
            "type": "scatterpolar"
           }
          ],
          "scatterpolargl": [
           {
            "marker": {
             "colorbar": {
              "outlinewidth": 0,
              "tickcolor": "rgb(237,237,237)",
              "ticklen": 6,
              "ticks": "inside"
             }
            },
            "type": "scatterpolargl"
           }
          ],
          "scatterternary": [
           {
            "marker": {
             "colorbar": {
              "outlinewidth": 0,
              "tickcolor": "rgb(237,237,237)",
              "ticklen": 6,
              "ticks": "inside"
             }
            },
            "type": "scatterternary"
           }
          ],
          "surface": [
           {
            "colorbar": {
             "outlinewidth": 0,
             "tickcolor": "rgb(237,237,237)",
             "ticklen": 6,
             "ticks": "inside"
            },
            "colorscale": [
             [
              0,
              "rgb(20,44,66)"
             ],
             [
              1,
              "rgb(90,179,244)"
             ]
            ],
            "type": "surface"
           }
          ],
          "table": [
           {
            "cells": {
             "fill": {
              "color": "rgb(237,237,237)"
             },
             "line": {
              "color": "white"
             }
            },
            "header": {
             "fill": {
              "color": "rgb(217,217,217)"
             },
             "line": {
              "color": "white"
             }
            },
            "type": "table"
           }
          ]
         },
         "layout": {
          "annotationdefaults": {
           "arrowhead": 0,
           "arrowwidth": 1
          },
          "autotypenumbers": "strict",
          "coloraxis": {
           "colorbar": {
            "outlinewidth": 0,
            "tickcolor": "rgb(237,237,237)",
            "ticklen": 6,
            "ticks": "inside"
           }
          },
          "colorscale": {
           "sequential": [
            [
             0,
             "rgb(20,44,66)"
            ],
            [
             1,
             "rgb(90,179,244)"
            ]
           ],
           "sequentialminus": [
            [
             0,
             "rgb(20,44,66)"
            ],
            [
             1,
             "rgb(90,179,244)"
            ]
           ]
          },
          "colorway": [
           "#F8766D",
           "#A3A500",
           "#00BF7D",
           "#00B0F6",
           "#E76BF3"
          ],
          "font": {
           "color": "rgb(51,51,51)"
          },
          "geo": {
           "bgcolor": "white",
           "lakecolor": "white",
           "landcolor": "rgb(237,237,237)",
           "showlakes": true,
           "showland": true,
           "subunitcolor": "white"
          },
          "hoverlabel": {
           "align": "left"
          },
          "hovermode": "closest",
          "paper_bgcolor": "white",
          "plot_bgcolor": "rgb(237,237,237)",
          "polar": {
           "angularaxis": {
            "gridcolor": "white",
            "linecolor": "white",
            "showgrid": true,
            "tickcolor": "rgb(51,51,51)",
            "ticks": "outside"
           },
           "bgcolor": "rgb(237,237,237)",
           "radialaxis": {
            "gridcolor": "white",
            "linecolor": "white",
            "showgrid": true,
            "tickcolor": "rgb(51,51,51)",
            "ticks": "outside"
           }
          },
          "scene": {
           "xaxis": {
            "backgroundcolor": "rgb(237,237,237)",
            "gridcolor": "white",
            "gridwidth": 2,
            "linecolor": "white",
            "showbackground": true,
            "showgrid": true,
            "tickcolor": "rgb(51,51,51)",
            "ticks": "outside",
            "zerolinecolor": "white"
           },
           "yaxis": {
            "backgroundcolor": "rgb(237,237,237)",
            "gridcolor": "white",
            "gridwidth": 2,
            "linecolor": "white",
            "showbackground": true,
            "showgrid": true,
            "tickcolor": "rgb(51,51,51)",
            "ticks": "outside",
            "zerolinecolor": "white"
           },
           "zaxis": {
            "backgroundcolor": "rgb(237,237,237)",
            "gridcolor": "white",
            "gridwidth": 2,
            "linecolor": "white",
            "showbackground": true,
            "showgrid": true,
            "tickcolor": "rgb(51,51,51)",
            "ticks": "outside",
            "zerolinecolor": "white"
           }
          },
          "shapedefaults": {
           "fillcolor": "black",
           "line": {
            "width": 0
           },
           "opacity": 0.3
          },
          "ternary": {
           "aaxis": {
            "gridcolor": "white",
            "linecolor": "white",
            "showgrid": true,
            "tickcolor": "rgb(51,51,51)",
            "ticks": "outside"
           },
           "baxis": {
            "gridcolor": "white",
            "linecolor": "white",
            "showgrid": true,
            "tickcolor": "rgb(51,51,51)",
            "ticks": "outside"
           },
           "bgcolor": "rgb(237,237,237)",
           "caxis": {
            "gridcolor": "white",
            "linecolor": "white",
            "showgrid": true,
            "tickcolor": "rgb(51,51,51)",
            "ticks": "outside"
           }
          },
          "xaxis": {
           "automargin": true,
           "gridcolor": "white",
           "linecolor": "white",
           "showgrid": true,
           "tickcolor": "rgb(51,51,51)",
           "ticks": "outside",
           "title": {
            "standoff": 15
           },
           "zerolinecolor": "white"
          },
          "yaxis": {
           "automargin": true,
           "gridcolor": "white",
           "linecolor": "white",
           "showgrid": true,
           "tickcolor": "rgb(51,51,51)",
           "ticks": "outside",
           "title": {
            "standoff": 15
           },
           "zerolinecolor": "white"
          }
         }
        },
        "title": {
         "text": "<b>Censo Escolar 2021: Análise de Localização Diferenciada(RS)<b>"
        },
        "width": 1200,
        "xaxis": {
         "anchor": "y",
         "domain": [
          0,
          0.49
         ],
         "range": [
          0,
          500
         ],
         "title": {
          "text": "Quantidade de Matículas"
         }
        },
        "xaxis2": {
         "anchor": "y2",
         "domain": [
          0.51,
          1
         ],
         "matches": "x",
         "range": [
          0,
          500
         ],
         "title": {
          "text": "Quantidade de Matículas"
         }
        },
        "yaxis": {
         "anchor": "x",
         "domain": [
          0,
          1
         ],
         "range": [
          0,
          200
         ],
         "title": {
          "text": "Quantidade de Docentes"
         }
        },
        "yaxis2": {
         "anchor": "x2",
         "domain": [
          0,
          1
         ],
         "matches": "y",
         "showticklabels": false
        }
       }
      }
     },
     "metadata": {},
     "output_type": "display_data"
    }
   ],
   "source": [
    "grafic.show()"
   ]
  },
  {
   "cell_type": "markdown",
   "metadata": {},
   "source": [
    "#### Exportação"
   ]
  },
  {
   "cell_type": "code",
   "execution_count": null,
   "metadata": {},
   "outputs": [],
   "source": [
    "grafic.write_html(\"localizacao_diferenciada_rs.html\")"
   ]
  }
 ],
 "metadata": {
  "kernelspec": {
   "display_name": "Python 3.10.6 64-bit",
   "language": "python",
   "name": "python3"
  },
  "language_info": {
   "codemirror_mode": {
    "name": "ipython",
    "version": 3
   },
   "file_extension": ".py",
   "mimetype": "text/x-python",
   "name": "python",
   "nbconvert_exporter": "python",
   "pygments_lexer": "ipython3",
   "version": "3.10.6"
  },
  "orig_nbformat": 4,
  "vscode": {
   "interpreter": {
    "hash": "31f2aee4e71d21fbe5cf8b01ff0e069b9275f58929596ceb00d14d90e3e16cd6"
   }
  }
 },
 "nbformat": 4,
 "nbformat_minor": 2
}
